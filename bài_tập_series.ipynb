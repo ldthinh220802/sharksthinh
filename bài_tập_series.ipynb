{
  "nbformat": 4,
  "nbformat_minor": 0,
  "metadata": {
    "colab": {
      "name": "bài tập series",
      "provenance": [],
      "authorship_tag": "ABX9TyNYzgJtzh16qFur+Z7zX0Cf",
      "include_colab_link": true
    },
    "kernelspec": {
      "name": "python3",
      "display_name": "Python 3"
    }
  },
  "cells": [
    {
      "cell_type": "markdown",
      "metadata": {
        "id": "view-in-github",
        "colab_type": "text"
      },
      "source": [
        "<a href=\"https://colab.research.google.com/github/ldthinh220802/sharksthinh/blob/main/b%C3%A0i_t%E1%BA%ADp_series.ipynb\" target=\"_parent\"><img src=\"https://colab.research.google.com/assets/colab-badge.svg\" alt=\"Open In Colab\"/></a>"
      ]
    },
    {
      "cell_type": "code",
      "metadata": {
        "id": "QeujkvmvTgC_"
      },
      "source": [
        "import numpy as np\r\n",
        "import pandas as pd"
      ],
      "execution_count": 1,
      "outputs": []
    },
    {
      "cell_type": "markdown",
      "metadata": {
        "id": "sMh7cF6LS8Ao"
      },
      "source": [
        "Câu 1: Hãy tạo 1 đối tượng kiểu Series có tối thiểu 10 phần tử (kiểu số) với giá trị tùy ý thích của bạn. In giá trị của Series đó ra màn hình"
      ]
    },
    {
      "cell_type": "code",
      "metadata": {
        "colab": {
          "base_uri": "https://localhost:8080/"
        },
        "id": "h88KLAktE_pO",
        "outputId": "c0b2cef6-744d-4501-e5b6-8fdd651947fe"
      },
      "source": [
        "S = pd.Series(np.random.randint(100,size = 10))\r\n",
        "S"
      ],
      "execution_count": 2,
      "outputs": [
        {
          "output_type": "execute_result",
          "data": {
            "text/plain": [
              "0    70\n",
              "1    44\n",
              "2    81\n",
              "3    13\n",
              "4    71\n",
              "5    81\n",
              "6    35\n",
              "7    79\n",
              "8    71\n",
              "9    45\n",
              "dtype: int64"
            ]
          },
          "metadata": {
            "tags": []
          },
          "execution_count": 2
        }
      ]
    },
    {
      "cell_type": "markdown",
      "metadata": {
        "id": "btelUqwHTlxx"
      },
      "source": [
        "Câu 2: Hãy tạo 1 đối tượng kiểu Series với giá trị khởi tạo hình thành từ dữ liệu kiểu Dictionary. In kết quả ra màn hình"
      ]
    },
    {
      "cell_type": "code",
      "metadata": {
        "colab": {
          "base_uri": "https://localhost:8080/"
        },
        "id": "6UmsBChYTtWA",
        "outputId": "a0a4fa14-38ec-4db2-f48a-b638cb5d3db5"
      },
      "source": [
        "dict_1 = {'tên':'Shark Thịnh ', 'tuổi': 19, 'công việc': 'sinh viên', 'lương': '1000000USD', 'đi xe': 'BWM I8'}\r\n",
        "D = pd.Series(dict_1)\r\n",
        "D"
      ],
      "execution_count": 3,
      "outputs": [
        {
          "output_type": "execute_result",
          "data": {
            "text/plain": [
              "tên          Shark Thịnh \n",
              "tuổi                   19\n",
              "công việc       sinh viên\n",
              "lương          1000000USD\n",
              "đi xe              BWM I8\n",
              "dtype: object"
            ]
          },
          "metadata": {
            "tags": []
          },
          "execution_count": 3
        }
      ]
    },
    {
      "cell_type": "markdown",
      "metadata": {
        "id": "snvJ7l0FT7xX"
      },
      "source": [
        "\r\n",
        "Câu 3: Sử dụng series ở câu 1, hãy thay đổi giá trị của cột index từ kiểu số theo kiểu ký tự với giá trị do bạn tự xác định."
      ]
    },
    {
      "cell_type": "code",
      "metadata": {
        "colab": {
          "base_uri": "https://localhost:8080/"
        },
        "id": "oM3x6ydrUBR0",
        "outputId": "da3af2bf-24aa-4ff4-f18d-ea92c51826ef"
      },
      "source": [
        "S_id = []\r\n",
        "z=1\r\n",
        "for i in S.index:\r\n",
        "    S_id.append(f'giá trị thứ {z}')\r\n",
        "    z+=1\r\n",
        "S_2 = pd.Series(S.values, index=S_id)\r\n",
        "S_2"
      ],
      "execution_count": 6,
      "outputs": [
        {
          "output_type": "execute_result",
          "data": {
            "text/plain": [
              "giá trị thứ 1     70\n",
              "giá trị thứ 2     44\n",
              "giá trị thứ 3     81\n",
              "giá trị thứ 4     13\n",
              "giá trị thứ 5     71\n",
              "giá trị thứ 6     81\n",
              "giá trị thứ 7     35\n",
              "giá trị thứ 8     79\n",
              "giá trị thứ 9     71\n",
              "giá trị thứ 10    45\n",
              "dtype: int64"
            ]
          },
          "metadata": {
            "tags": []
          },
          "execution_count": 6
        }
      ]
    },
    {
      "cell_type": "markdown",
      "metadata": {
        "id": "RTa2pb9uU10_"
      },
      "source": [
        "Câu 4: Sử dụng series ở câu 2, hãy truy cập đến phần tử thứ 5 và in ra màn hình"
      ]
    },
    {
      "cell_type": "code",
      "metadata": {
        "colab": {
          "base_uri": "https://localhost:8080/"
        },
        "id": "ELXn8PLEU_e1",
        "outputId": "3aa0b498-92df-4137-c1d1-7bbfeca3b434"
      },
      "source": [
        "print(D[4])"
      ],
      "execution_count": 7,
      "outputs": [
        {
          "output_type": "stream",
          "text": [
            "BWM I8\n"
          ],
          "name": "stdout"
        }
      ]
    },
    {
      "cell_type": "code",
      "metadata": {
        "id": "Z9KjdDPTU5aX"
      },
      "source": [
        "Câu 5: Sử dụng series ở câu 3, hãy truy cập đến 1 phần tử dựa theo chỉ số kiểu ký tự do bạn lựa chọn và in ra màn hình"
      ],
      "execution_count": null,
      "outputs": []
    },
    {
      "cell_type": "code",
      "metadata": {
        "colab": {
          "base_uri": "https://localhost:8080/"
        },
        "id": "g0xsmy-qVSbj",
        "outputId": "817ac7c7-d6de-4477-df50-fe295d550448"
      },
      "source": [
        "print(S_2['giá trị thứ 1'])"
      ],
      "execution_count": 8,
      "outputs": [
        {
          "output_type": "stream",
          "text": [
            "70\n"
          ],
          "name": "stdout"
        }
      ]
    },
    {
      "cell_type": "markdown",
      "metadata": {
        "id": "L0FRw9ZQVbGp"
      },
      "source": [
        "Câu 6: Sử dụng series ở câu 3, hãy tìm ra tính chất đặc thù trong các chỉ số kiểu kí tự, thực hiện vòng lặp for duyệt trên các chỉ mục kiểu kí tự này để lọc ra những phần tử thỏa mãn điều kiện và in ra màn hình"
      ]
    },
    {
      "cell_type": "code",
      "metadata": {
        "colab": {
          "base_uri": "https://localhost:8080/"
        },
        "id": "xf2YNdiKVf_q",
        "outputId": "80fea442-6153-4829-e815-cc5faff943fa"
      },
      "source": [
        "#Lấy các số thứ (1-4)\r\n",
        "S_2[[(name.endswith('1') or name.endswith('0'))for name in S_2.index]]"
      ],
      "execution_count": 11,
      "outputs": [
        {
          "output_type": "execute_result",
          "data": {
            "text/plain": [
              "giá trị thứ 1     70\n",
              "giá trị thứ 10    45\n",
              "dtype: int64"
            ]
          },
          "metadata": {
            "tags": []
          },
          "execution_count": 11
        }
      ]
    },
    {
      "cell_type": "markdown",
      "metadata": {
        "id": "sNRCIffoWFWK"
      },
      "source": [
        "Câu 7: Sử dụng series ở câu 1, hãy đổi tên cột index thành 'STT' và đặt tên cho series là 'Gia_tri'. In kết quả ra màn hình"
      ]
    },
    {
      "cell_type": "code",
      "metadata": {
        "colab": {
          "base_uri": "https://localhost:8080/"
        },
        "id": "b67QzY_EWGKe",
        "outputId": "8cb142ba-820e-4686-97b4-806907557220"
      },
      "source": [
        "S.index.name = 'STT'\r\n",
        "S.name = 'Gia_tri'\r\n",
        "S"
      ],
      "execution_count": 12,
      "outputs": [
        {
          "output_type": "execute_result",
          "data": {
            "text/plain": [
              "STT\n",
              "0    70\n",
              "1    44\n",
              "2    81\n",
              "3    13\n",
              "4    71\n",
              "5    81\n",
              "6    35\n",
              "7    79\n",
              "8    71\n",
              "9    45\n",
              "Name: Gia_tri, dtype: int64"
            ]
          },
          "metadata": {
            "tags": []
          },
          "execution_count": 12
        }
      ]
    },
    {
      "cell_type": "markdown",
      "metadata": {
        "id": "5__UszcPWH10"
      },
      "source": [
        "Câu 8: Hãy áp dụng hàm logarith của gói numpy với series ở câu 1 và in kết quả ra màn hình"
      ]
    },
    {
      "cell_type": "code",
      "metadata": {
        "colab": {
          "base_uri": "https://localhost:8080/"
        },
        "id": "qsLItUfuWJlv",
        "outputId": "a59db752-1d8f-4780-8655-2285091655fb"
      },
      "source": [
        "S_log = pd.Series([np.log(gt) for gt in S.values])\r\n",
        "S_log.name = 'logarith'\r\n",
        "S_log"
      ],
      "execution_count": 13,
      "outputs": [
        {
          "output_type": "execute_result",
          "data": {
            "text/plain": [
              "0    4.248495\n",
              "1    3.784190\n",
              "2    4.394449\n",
              "3    2.564949\n",
              "4    4.262680\n",
              "5    4.394449\n",
              "6    3.555348\n",
              "7    4.369448\n",
              "8    4.262680\n",
              "9    3.806662\n",
              "Name: logarith, dtype: float64"
            ]
          },
          "metadata": {
            "tags": []
          },
          "execution_count": 13
        }
      ]
    },
    {
      "cell_type": "markdown",
      "metadata": {
        "id": "q69RAlk1WLek"
      },
      "source": [
        "Câu 9: Lọc các giá trị của series 1 > 15 và in ra màn hình"
      ]
    },
    {
      "cell_type": "code",
      "metadata": {
        "colab": {
          "base_uri": "https://localhost:8080/"
        },
        "id": "7bhicNSNWScU",
        "outputId": "839145bb-aa8a-4163-d2a8-7e94c33491b6"
      },
      "source": [
        "S[S>15]"
      ],
      "execution_count": 14,
      "outputs": [
        {
          "output_type": "execute_result",
          "data": {
            "text/plain": [
              "STT\n",
              "0    70\n",
              "1    44\n",
              "2    81\n",
              "4    71\n",
              "5    81\n",
              "6    35\n",
              "7    79\n",
              "8    71\n",
              "9    45\n",
              "Name: Gia_tri, dtype: int64"
            ]
          },
          "metadata": {
            "tags": []
          },
          "execution_count": 14
        }
      ]
    }
  ]
}