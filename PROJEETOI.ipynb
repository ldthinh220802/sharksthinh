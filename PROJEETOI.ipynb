{
  "nbformat": 4,
  "nbformat_minor": 0,
  "metadata": {
    "colab": {
      "name": "PROJEETOI.ipynb",
      "provenance": [],
      "authorship_tag": "ABX9TyMfewZ94KQFZVlkqIEzdihn",
      "include_colab_link": true
    },
    "kernelspec": {
      "name": "python3",
      "display_name": "Python 3"
    },
    "language_info": {
      "name": "python"
    }
  },
  "cells": [
    {
      "cell_type": "markdown",
      "metadata": {
        "id": "view-in-github",
        "colab_type": "text"
      },
      "source": [
        "<a href=\"https://colab.research.google.com/github/ldthinh220802/sharksthinh/blob/main/PROJEETOI.ipynb\" target=\"_parent\"><img src=\"https://colab.research.google.com/assets/colab-badge.svg\" alt=\"Open In Colab\"/></a>"
      ]
    },
    {
      "cell_type": "code",
      "metadata": {
        "colab": {
          "base_uri": "https://localhost:8080/"
        },
        "id": "JifIRE31BCar",
        "outputId": "fa5f7986-4342-48aa-d71c-0b5cb36c0dd8"
      },
      "source": [
        "import numpy as np\n",
        "\n",
        "\n",
        "class ProjectOne:\n",
        "    def __init__(self, mang1, mang2):\n",
        "        self.mang1 = mang1\n",
        "        self.mang2 = mang2\n",
        "\n",
        "    def gia_tri_tb(self):\n",
        "        tong1 = 0\n",
        "        tong2 = 0\n",
        "        for i in self.mang1:\n",
        "            tong1 += i\n",
        "        for i in self.mang2:\n",
        "            tong2 += i\n",
        "        return tong1 / len(self.mang1), tong2 / len(self.mang2)\n",
        "\n",
        "    def mode(self):\n",
        "        mode1 = max(set(self.mang1), key=self.mang1.count)\n",
        "        mode2 = max(set(self.mang2), key=self.mang2.count)\n",
        "        return mode1, mode2\n",
        "\n",
        "    def phuong_sai(self):\n",
        "        y1 = 0\n",
        "        y2 = 0\n",
        "        for i in self.mang1:\n",
        "            y1 += (i - self.gia_tri_tb()[0]) ** 2\n",
        "        for i in self.mang2:\n",
        "            y2 += (i - self.gia_tri_tb()[1]) ** 2\n",
        "        return y1 / len(self.mang1), y2 / len(self.mang2)\n",
        "\n",
        "    def do_lech_chuan(self):\n",
        "        d1 = np.sqrt(self.phuong_sai()[0])\n",
        "        d2 = np.sqrt(self.phuong_sai()[1])\n",
        "        return d1, d2\n",
        "\n",
        "\n",
        "PJ = ProjectOne([1, 2, 2, 2, 3, 4], [2, 3, 4, 4, 4, 4, 2, 5])\n",
        "print(\"MEAN = \",PJ.gia_tri_tb())\n",
        "print(\"MODE = \",PJ.mode())\n",
        "print(\"PHUONG SAI = \",PJ.phuong_sai())\n",
        "print(\"DO LECH CHUAN = \",PJ.do_lech_chuan())"
      ],
      "execution_count": 131,
      "outputs": [
        {
          "output_type": "stream",
          "text": [
            "MEAN =  (2.3333333333333335, 3.5)\n",
            "MODE =  (2, 4)\n",
            "PHUONG SAI =  (0.8888888888888888, 1.0)\n",
            "DO LECH CHUAN =  (0.9428090415820634, 1.0)\n"
          ],
          "name": "stdout"
        }
      ]
    }
  ]
}