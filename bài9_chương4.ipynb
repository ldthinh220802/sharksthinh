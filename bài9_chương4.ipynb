{
  "nbformat": 4,
  "nbformat_minor": 0,
  "metadata": {
    "colab": {
      "name": "bài9 chương4",
      "provenance": [],
      "authorship_tag": "ABX9TyOn55bnKFXolkc9dM54PjtP",
      "include_colab_link": true
    },
    "kernelspec": {
      "name": "python3",
      "display_name": "Python 3"
    }
  },
  "cells": [
    {
      "cell_type": "markdown",
      "metadata": {
        "id": "view-in-github",
        "colab_type": "text"
      },
      "source": [
        "<a href=\"https://colab.research.google.com/github/ldthinh220802/sharksthinh/blob/main/b%C3%A0i9_ch%C6%B0%C6%A1ng4.ipynb\" target=\"_parent\"><img src=\"https://colab.research.google.com/assets/colab-badge.svg\" alt=\"Open In Colab\"/></a>"
      ]
    },
    {
      "cell_type": "code",
      "metadata": {
        "id": "72NeaC1-2sH4"
      },
      "source": [
        "import os\n",
        "import time\n",
        "shutdown = True\n",
        "while (shutdown): \n",
        "    shutdown = input(\"Bạn có muốn tắt máy tính không? (yes / no): \")\n",
        "    if shutdown == 'yes':\n",
        "        os.system(\"shutdown /s /t 2\") \n",
        "        shutdown = False\n",
        "    else:\n",
        "        print(\"Chờ 30' rồi thực hiện lại\")\n",
        "        time.sleep(30)\n",
        "        shutdown = True"
      ],
      "execution_count": null,
      "outputs": []
    }
  ]
}