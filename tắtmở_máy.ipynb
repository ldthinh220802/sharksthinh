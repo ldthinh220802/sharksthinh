{
  "nbformat": 4,
  "nbformat_minor": 0,
  "metadata": {
    "colab": {
      "name": "tắtmở máy",
      "provenance": [],
      "authorship_tag": "ABX9TyNtjpwyvJ8lkrxp9Opk1W8U",
      "include_colab_link": true
    },
    "kernelspec": {
      "name": "python3",
      "display_name": "Python 3"
    }
  },
  "cells": [
    {
      "cell_type": "markdown",
      "metadata": {
        "id": "view-in-github",
        "colab_type": "text"
      },
      "source": [
        "<a href=\"https://colab.research.google.com/github/ldthinh220802/sharksthinh/blob/main/t%E1%BA%AFtm%E1%BB%9F_m%C3%A1y.ipynb\" target=\"_parent\"><img src=\"https://colab.research.google.com/assets/colab-badge.svg\" alt=\"Open In Colab\"/></a>"
      ]
    },
    {
      "cell_type": "code",
      "metadata": {
        "id": "fAaLHiVc9Cys"
      },
      "source": [
        "import os\n",
        "import time\n",
        "n = \"no\"\n",
        "while n == \"no\":\n",
        "    n = input(\"Do you want to Shutdown? (nhập yes hoặc no)\")\n",
        "    if n ==\"no\" :\n",
        "         time.sleep(30)\n",
        "    else:\n",
        "        os.system('shutdown -s')"
      ],
      "execution_count": null,
      "outputs": []
    }
  ]
}