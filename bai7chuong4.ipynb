{
  "nbformat": 4,
  "nbformat_minor": 0,
  "metadata": {
    "colab": {
      "name": "bai7chuong4",
      "provenance": [],
      "authorship_tag": "ABX9TyOQ/R08W4ElB7DddzqTHIJn",
      "include_colab_link": true
    },
    "kernelspec": {
      "name": "python3",
      "display_name": "Python 3"
    }
  },
  "cells": [
    {
      "cell_type": "markdown",
      "metadata": {
        "id": "view-in-github",
        "colab_type": "text"
      },
      "source": [
        "<a href=\"https://colab.research.google.com/github/ldthinh220802/sharksthinh/blob/main/bai7chuong4.ipynb\" target=\"_parent\"><img src=\"https://colab.research.google.com/assets/colab-badge.svg\" alt=\"Open In Colab\"/></a>"
      ]
    },
    {
      "cell_type": "code",
      "metadata": {
        "colab": {
          "base_uri": "https://localhost:8080/"
        },
        "id": "ZHAQvNArCVO0",
        "outputId": "3d165a05-dbe4-465e-874d-ce3aa59849da"
      },
      "source": [
        "import numpy as np\n",
        "n= int(input(\"nhập số phần tử của list =\"))\n",
        "rd=np.random.random_sample(size = n)*2000000-1000000\n",
        "print(\"list = \",rd)\n",
        "min = rd[1]\n",
        "for a in rd :\n",
        "     if a < min:\n",
        "         min = a\n",
        "print(\"giá trị nhỏ nhất của list = \",min)"
      ],
      "execution_count": 1,
      "outputs": [
        {
          "output_type": "stream",
          "text": [
            "nhập số phần tử của list =2\n",
            "list =  [-866491.38892691 -805921.14540096]\n",
            "giá trị nhỏ nhất của list =  -866491.3889269091\n"
          ],
          "name": "stdout"
        }
      ]
    }
  ]
}