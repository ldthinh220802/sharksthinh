{
  "nbformat": 4,
  "nbformat_minor": 0,
  "metadata": {
    "colab": {
      "name": "bài 12.1.ipynb",
      "provenance": [],
      "authorship_tag": "ABX9TyPnKVPdYXNlBhPDDJeWKK7Q",
      "include_colab_link": true
    },
    "kernelspec": {
      "name": "python3",
      "display_name": "Python 3"
    }
  },
  "cells": [
    {
      "cell_type": "markdown",
      "metadata": {
        "id": "view-in-github",
        "colab_type": "text"
      },
      "source": [
        "<a href=\"https://colab.research.google.com/github/ldthinh220802/sharksthinh/blob/main/b%C3%A0i_12_1.ipynb\" target=\"_parent\"><img src=\"https://colab.research.google.com/assets/colab-badge.svg\" alt=\"Open In Colab\"/></a>"
      ]
    },
    {
      "cell_type": "code",
      "metadata": {
        "colab": {
          "base_uri": "https://localhost:8080/"
        },
        "id": "Fp1qqQBC0iuU",
        "outputId": "dc938343-e2e9-4393-87a7-d4075f663f2b"
      },
      "source": [
        "#1.tạo 1 số nguyên ngẫu nhiên n trong khoảng [50,1000] đóng vai trò là số phần tử của list\n",
        "import random\n",
        "n=random.randint(50, 1000)\n",
        "print(\"list=\",[n])\n",
        "\n",
        "#2.Sinh ngẫu nhiên 1 List các số nguyên trong khoảng [-1000, 1000]\n",
        "import random\n",
        "randomlist = []\n",
        "n=int(input(\" nhập vào số phần tử của list: \"))\n",
        "for a in range (n):\n",
        "    b = random.randint(-1000,1000)\n",
        "    randomlist.append(b)\n",
        "print(\"list= \",randomlist)\n",
        "\n",
        "#3.Sinh ngẫu nhiên 1 List các số thực tỏng khoảng [-1000.0, 1000.0]\n",
        "import numpy as np\n",
        "n = int(input(\"nhap vao so phan tu cua list= \"))\n",
        "rd = np.random.random_sample(size=n)*-1000.0+1000.0\n",
        "print(\"list= \",rd)"
      ],
      "execution_count": 4,
      "outputs": [
        {
          "output_type": "stream",
          "text": [
            "list= [579]\n",
            " nhập vào số phần tử của list: 5\n",
            "list=  [-236, -355, -765, -904, 98]\n",
            "nhap vao so phan tu cua list= 6\n",
            "list=  [875.6560741  134.2768332  750.62945956 977.25472648 708.02036\n",
            " 111.53438984]\n"
          ],
          "name": "stdout"
        }
      ]
    }
  ]
}