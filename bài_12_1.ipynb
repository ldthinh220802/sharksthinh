{
  "nbformat": 4,
  "nbformat_minor": 0,
  "metadata": {
    "colab": {
      "name": "bài 12.1.ipynb",
      "provenance": [],
      "authorship_tag": "ABX9TyPCdgrWaolEGhLyOcskU4Wx",
      "include_colab_link": true
    },
    "kernelspec": {
      "name": "python3",
      "display_name": "Python 3"
    }
  },
  "cells": [
    {
      "cell_type": "markdown",
      "metadata": {
        "id": "view-in-github",
        "colab_type": "text"
      },
      "source": [
        "<a href=\"https://colab.research.google.com/github/ldthinh220802/sharksthinh/blob/main/b%C3%A0i_12_1.ipynb\" target=\"_parent\"><img src=\"https://colab.research.google.com/assets/colab-badge.svg\" alt=\"Open In Colab\"/></a>"
      ]
    },
    {
      "cell_type": "code",
      "metadata": {
        "colab": {
          "base_uri": "https://localhost:8080/"
        },
        "id": "Fp1qqQBC0iuU",
        "outputId": "c71d8fdf-5ec6-47f2-e5ac-8633916f88fd"
      },
      "source": [
        "#1.tạo 1 số nguyên ngẫu nhiên n trong khoảng [50,1000] đóng vai trò là số phần tử của list\n",
        "import random\n",
        "n=random.randint(50, 1000)\n",
        "print([n])\n",
        "\n",
        "#2.Sinh ngẫu nhiên 1 List các số nguyên trong khoảng [-1000, 1000]\n",
        "import random\n",
        "randomlist = []\n",
        "n=int(input(\" nhập vào số phần tử của list: \"))\n",
        "for a in range (n):\n",
        "    b = random.randint(-1000,1000)\n",
        "    randomlist.append(b)\n",
        "print(\"list= \",randomlist)\n",
        "\n",
        "#3.Sinh ngẫu nhiên 1 List các số thực tỏng khoảng [-1000.0, 1000.0]\n",
        "import numpy as np\n",
        "n = int(input(\"nhap vao so phan tu cua list= \"))\n",
        "rd = np.random.random_sample(size=n)*-1000.0+1000.0\n",
        "print(\"list= \",rd)"
      ],
      "execution_count": 3,
      "outputs": [
        {
          "output_type": "stream",
          "text": [
            "[645]\n",
            " nhập vào số phần tử của list: 5\n",
            "list=  [-467, 703, 655, -909, -55]\n",
            "nhap vao so phan tu cua list= 6\n",
            "list=  [508.41828307 409.62636617 624.87755162 420.23160974 686.18117785\n",
            "   9.05064276]\n"
          ],
          "name": "stdout"
        }
      ]
    }
  ]
}