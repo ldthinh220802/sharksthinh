{
  "nbformat": 4,
  "nbformat_minor": 0,
  "metadata": {
    "colab": {
      "name": "Đệ quy ",
      "provenance": [],
      "authorship_tag": "ABX9TyOfjf6AeKPSHynnRcXk/seF",
      "include_colab_link": true
    },
    "kernelspec": {
      "name": "python3",
      "display_name": "Python 3"
    }
  },
  "cells": [
    {
      "cell_type": "markdown",
      "metadata": {
        "id": "view-in-github",
        "colab_type": "text"
      },
      "source": [
        "<a href=\"https://colab.research.google.com/github/ldthinh220802/sharksthinh/blob/main/%C4%90%E1%BB%87_quy.ipynb\" target=\"_parent\"><img src=\"https://colab.research.google.com/assets/colab-badge.svg\" alt=\"Open In Colab\"/></a>"
      ]
    },
    {
      "cell_type": "markdown",
      "metadata": {
        "id": "cO0B591eep5I"
      },
      "source": [
        "Họ và Tên Sinh Viên : Lương Đức Thịnh\r\n",
        "\r\n",
        "Mã sinh viên : 20E1020058\r\n",
        "\r\n",
        "\r\n",
        "\r\n"
      ]
    },
    {
      "cell_type": "markdown",
      "metadata": {
        "id": "ZHmnXUMyezie"
      },
      "source": [
        "1. Bài toán tháp hà nội"
      ]
    },
    {
      "cell_type": "code",
      "metadata": {
        "colab": {
          "base_uri": "https://localhost:8080/"
        },
        "id": "FQOqmyRDemuV",
        "outputId": "da3fc096-1640-42cc-ae29-9c64b1c128b1"
      },
      "source": [
        "def thapHaNoi(n, toaMot, toaHai, toaBa):\r\n",
        "\r\n",
        "    if n == 1:\r\n",
        "        print(\"Chuyen tu\", toaMot, \"sang\", toaBa)\r\n",
        "    else:\r\n",
        "        thapHaNoi(n-1,toaMot,toaBa ,toaHai)\r\n",
        "        print(\"Chuyen tu\", toaMot, \"sang\", toaBa)\r\n",
        "        thapHaNoi(n-1,toaHai,toaMot, toaBa)\r\n",
        "\r\n",
        "\r\n",
        "\r\n",
        "thapHaNoi(2,'A','B','C')"
      ],
      "execution_count": 3,
      "outputs": [
        {
          "output_type": "stream",
          "text": [
            "Chuyen tu A sang B\n",
            "Chuyen tu A sang C\n",
            "Chuyen tu B sang C\n"
          ],
          "name": "stdout"
        }
      ]
    },
    {
      "cell_type": "markdown",
      "metadata": {
        "id": "NE51kWopfK79"
      },
      "source": [
        "2. bài toán UCLN"
      ]
    },
    {
      "cell_type": "code",
      "metadata": {
        "colab": {
          "base_uri": "https://localhost:8080/"
        },
        "id": "uJ35fyYYfToB",
        "outputId": "b414e563-7d50-4bcc-e4b1-7a370ade3a66"
      },
      "source": [
        "def uscln(a, b):\r\n",
        "    if (b == 0):\r\n",
        "        return a;\r\n",
        "    return uscln(b, a % b);\r\n",
        "\r\n",
        " \r\n",
        "\r\n",
        "\r\n",
        "a = int(input(\"Nhập số nguyên dương a = \"));\r\n",
        "b = int(input(\"Nhập số nguyên dương b = \"));\r\n",
        "print(\"Ước số chung lớn nhất của\", a, \"và\", b, \"là:\", uscln(a, b));\r\n"
      ],
      "execution_count": 2,
      "outputs": [
        {
          "output_type": "stream",
          "text": [
            "Nhập số nguyên dương a = 5\n",
            "Nhập số nguyên dương b = 125\n",
            "Ước số chung lớn nhất của 5 và 125 là: 5\n"
          ],
          "name": "stdout"
        }
      ]
    }
  ]
}