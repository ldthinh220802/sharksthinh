{
  "nbformat": 4,
  "nbformat_minor": 0,
  "metadata": {
    "colab": {
      "name": "bài 13.3 chương 4.ipynb",
      "provenance": [],
      "authorship_tag": "ABX9TyPhxbi4pfdr+o0AnxcI5HtQ",
      "include_colab_link": true
    },
    "kernelspec": {
      "name": "python3",
      "display_name": "Python 3"
    }
  },
  "cells": [
    {
      "cell_type": "markdown",
      "metadata": {
        "id": "view-in-github",
        "colab_type": "text"
      },
      "source": [
        "<a href=\"https://colab.research.google.com/github/ldthinh220802/sharksthinh/blob/main/b%C3%A0i_13_3_ch%C6%B0%C6%A1ng_4.ipynb\" target=\"_parent\"><img src=\"https://colab.research.google.com/assets/colab-badge.svg\" alt=\"Open In Colab\"/></a>"
      ]
    },
    {
      "cell_type": "code",
      "metadata": {
        "colab": {
          "base_uri": "https://localhost:8080/"
        },
        "id": "bce-KiuEzjFy",
        "outputId": "ac769074-c171-4d7e-dae3-5426c9ecef53"
      },
      "source": [
        "import random\r\n",
        "import string\r\n",
        "dulieu=int(input('nhập giới hạn dữ liệu(MB)= '))\r\n",
        "while (dulieu<1 or dulieu>1024):\r\n",
        "\tdulieu = int(input('nhập lại giới hạn dữ liệu (1->1024MB)= '))\r\n",
        "t=1000*1024 \r\n",
        "a= dulieu*(2**20)//(t) \r\n",
        "b= dulieu*(2**20)%(t)\r\n",
        "f= string.ascii_lowercase*48733\r\n",
        "def text(): \r\n",
        "    c=''.join(random.sample(f,t))\r\n",
        "    return c\r\n",
        "print('số file có kích thước 1000KB là: ',a)\r\n",
        "print('file cuối cùng có kích thước: ',b/1024,\"KB\")\r\n",
        "for i in range(a): \r\n",
        "\tfile=open('shs'+str(i+1)+'.txt' ,'x')\r\n",
        "\tfile.write(text())\r\n",
        "\tfile.close()\r\n",
        "if b>0: \r\n",
        "    file=open('ops'+'.txt' ,'x')\r\n",
        "    file.write(''.join(random.sample(f,b)))\r\n",
        "file.close()\r\n",
        "print('Kết thúc')"
      ],
      "execution_count": 1,
      "outputs": [
        {
          "output_type": "stream",
          "text": [
            "nhập giới hạn dữ liệu(MB)= 2\n",
            "số file có kích thước 1000KB là:  2\n",
            "file cuối cùng có kích thước:  48.0 KB\n",
            "Kết thúc\n"
          ],
          "name": "stdout"
        }
      ]
    }
  ]
}