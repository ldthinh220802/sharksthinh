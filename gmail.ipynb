{
  "nbformat": 4,
  "nbformat_minor": 0,
  "metadata": {
    "colab": {
      "name": "gmail",
      "provenance": [],
      "authorship_tag": "ABX9TyNNN9wsMrL/VjOl3t3g+ZwP",
      "include_colab_link": true
    },
    "kernelspec": {
      "name": "python3",
      "display_name": "Python 3"
    }
  },
  "cells": [
    {
      "cell_type": "markdown",
      "metadata": {
        "id": "view-in-github",
        "colab_type": "text"
      },
      "source": [
        "<a href=\"https://colab.research.google.com/github/ldthinh220802/sharksthinh/blob/main/gmail.ipynb\" target=\"_parent\"><img src=\"https://colab.research.google.com/assets/colab-badge.svg\" alt=\"Open In Colab\"/></a>"
      ]
    },
    {
      "cell_type": "code",
      "metadata": {
        "id": "gEdH9V6Vs1w2"
      },
      "source": [
        "import smtplib\n",
        "import getpass\n",
        "sender_email = input(\"sender_email = \")\n",
        "password = getpass.getpass(\"password = \")\n",
        "seceiver_email = input(\" seceiver_email = \")\n",
        "n = int(input(\"số lần gửi : \"))\n",
        "noi_dung = input(\"nội dung = \")\n",
        "connect = smtplib.SMTP_SSL(\"smtp.gmail.com\",465)\n",
        "connect.login(sender_email,password)\n",
        "for i in range(n) :\n",
        "   connect.sendmail(sender_email, seceiver_email, noi_dung)\n",
        "print(\"xong xuôi \")\n"
      ],
      "execution_count": null,
      "outputs": []
    }
  ]
}