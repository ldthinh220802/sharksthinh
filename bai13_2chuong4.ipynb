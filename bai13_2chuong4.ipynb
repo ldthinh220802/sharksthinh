{
  "nbformat": 4,
  "nbformat_minor": 0,
  "metadata": {
    "kernelspec": {
      "display_name": "Python 3",
      "language": "python",
      "name": "python3"
    },
    "language_info": {
      "codemirror_mode": {
        "name": "ipython",
        "version": 3
      },
      "file_extension": ".py",
      "mimetype": "text/x-python",
      "name": "python",
      "nbconvert_exporter": "python",
      "pygments_lexer": "ipython3",
      "version": "3.8.5"
    },
    "colab": {
      "name": "bai13.2chuong4.ipynb",
      "provenance": [],
      "include_colab_link": true
    }
  },
  "cells": [
    {
      "cell_type": "markdown",
      "metadata": {
        "id": "view-in-github",
        "colab_type": "text"
      },
      "source": [
        "<a href=\"https://colab.research.google.com/github/ldthinh220802/sharksthinh/blob/main/bai13_2chuong4.ipynb\" target=\"_parent\"><img src=\"https://colab.research.google.com/assets/colab-badge.svg\" alt=\"Open In Colab\"/></a>"
      ]
    },
    {
      "cell_type": "markdown",
      "metadata": {
        "id": "lrLQPQcQkf5C"
      },
      "source": [
        "# 13.2.1: Nhập tên thư mục từ bàn phím và tạo thư mục."
      ]
    },
    {
      "cell_type": "code",
      "metadata": {
        "id": "LxsjYVE4kf5C",
        "outputId": "2cdf0dfa-fee9-4935-eb2d-01c22f3a0815"
      },
      "source": [
        "import os\n",
        "path = 'D:\\\\'\n",
        "os.chdir(path)\n",
        "print(os.listdir(path))\n",
        "os.mkdir('thinh')\n",
        "print(os.listdir(path))"
      ],
      "execution_count": null,
      "outputs": [
        {
          "output_type": "stream",
          "text": [
            "['$RECYCLE.BIN', 'Game', 'Picture', 'System Volume Information', 'Video']\n",
            "['$RECYCLE.BIN', 'Game', 'Picture', 'System Volume Information', 'thinh', 'Video']\n"
          ],
          "name": "stdout"
        }
      ]
    },
    {
      "cell_type": "markdown",
      "metadata": {
        "id": "XzlltlQfkf5D"
      },
      "source": [
        "# 13.2.2: Nhập tên tập tin từ bàn phím và tạo tập tin vào thư mục mới tạo ở trên:"
      ]
    },
    {
      "cell_type": "markdown",
      "metadata": {
        "id": "ikN1ZVwRkf5E"
      },
      "source": [
        "     # 13.2.2A: Tạo tệp tin."
      ]
    },
    {
      "cell_type": "code",
      "metadata": {
        "id": "qDkdh41Ikf5E",
        "outputId": "c310baf0-e1c7-405d-a0c6-d0a63d903f97"
      },
      "source": [
        "import os\n",
        "a = open(\"sharkthinh.txt\",\"x\")\n",
        "a.close()\n",
        "print(\"Đã tạo tệp tin thành công và được lưu ở ổ đĩa phía dưới:\")\n",
        "print(os.getcwd())"
      ],
      "execution_count": null,
      "outputs": [
        {
          "output_type": "stream",
          "text": [
            "Đã tạo tệp tin thành công và được lưu ở ổ đĩa phía dưới:\n",
            "D:\\\n"
          ],
          "name": "stdout"
        }
      ]
    },
    {
      "cell_type": "markdown",
      "metadata": {
        "id": "2ugoyG9okf5E"
      },
      "source": [
        "     # 13.2.2B: Di truyển tập tin vừa mới tạo vào thư mục ở trên."
      ]
    },
    {
      "cell_type": "code",
      "metadata": {
        "id": "68eaNB_lkf5E",
        "outputId": "f2dbb21d-bed7-4728-d46a-8953c95a10fd"
      },
      "source": [
        "import os\n",
        "import shutil\n",
        "shutil.move(\"D:/sharkthinh.txt\",\"D:/thinh\")"
      ],
      "execution_count": null,
      "outputs": [
        {
          "output_type": "execute_result",
          "data": {
            "text/plain": [
              "'D:/thinh\\\\sharkthinh.txt'"
            ]
          },
          "metadata": {
            "tags": []
          },
          "execution_count": 26
        }
      ]
    },
    {
      "cell_type": "code",
      "metadata": {
        "id": "ZTgDlwNXkf5E"
      },
      "source": [
        ""
      ],
      "execution_count": null,
      "outputs": []
    },
    {
      "cell_type": "code",
      "metadata": {
        "id": "EiCA_Jo7kf5E"
      },
      "source": [
        ""
      ],
      "execution_count": null,
      "outputs": []
    }
  ]
}