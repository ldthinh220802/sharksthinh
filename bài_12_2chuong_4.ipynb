{
  "nbformat": 4,
  "nbformat_minor": 0,
  "metadata": {
    "colab": {
      "name": "bài 12-2chuong 4.ipynb",
      "provenance": [],
      "authorship_tag": "ABX9TyPqtIAcThGJJIGYK+KfiBVY",
      "include_colab_link": true
    },
    "kernelspec": {
      "name": "python3",
      "display_name": "Python 3"
    }
  },
  "cells": [
    {
      "cell_type": "markdown",
      "metadata": {
        "id": "view-in-github",
        "colab_type": "text"
      },
      "source": [
        "<a href=\"https://colab.research.google.com/github/ldthinh220802/sharksthinh/blob/main/b%C3%A0i_12_2chuong_4.ipynb\" target=\"_parent\"><img src=\"https://colab.research.google.com/assets/colab-badge.svg\" alt=\"Open In Colab\"/></a>"
      ]
    },
    {
      "cell_type": "code",
      "metadata": {
        "colab": {
          "base_uri": "https://localhost:8080/"
        },
        "id": "zTm4EuXzqZXU",
        "outputId": "136d66c9-f435-4598-f7bf-881a680cbcb1"
      },
      "source": [
        "import random,string\n",
        "t=random.randint(2, 10)\n",
        "letters = string.ascii_uppercase \n",
        "x = ''.join(random.choice(letters) for i in range(t))\n",
        "y=random.randint(0, 100)\n",
        "dic={'name': x,'age': y }\n",
        "print(\"dictionary= \",dic)"
      ],
      "execution_count": 2,
      "outputs": [
        {
          "output_type": "stream",
          "text": [
            "dictionary=  {'name': 'HX', 'age': 5}\n"
          ],
          "name": "stdout"
        }
      ]
    }
  ]
}