{
  "nbformat": 4,
  "nbformat_minor": 0,
  "metadata": {
    "colab": {
      "name": "13.1chuog4.ipynb",
      "provenance": [],
      "authorship_tag": "ABX9TyO9zsB+S7FkhiTEIIr/UQ8X",
      "include_colab_link": true
    },
    "kernelspec": {
      "name": "python3",
      "display_name": "Python 3"
    }
  },
  "cells": [
    {
      "cell_type": "markdown",
      "metadata": {
        "id": "view-in-github",
        "colab_type": "text"
      },
      "source": [
        "<a href=\"https://colab.research.google.com/github/ldthinh220802/sharksthinh/blob/main/13_1chuog4.ipynb\" target=\"_parent\"><img src=\"https://colab.research.google.com/assets/colab-badge.svg\" alt=\"Open In Colab\"/></a>"
      ]
    },
    {
      "cell_type": "markdown",
      "metadata": {
        "id": "PCji3sYlyWHF"
      },
      "source": [
        "13.1.1"
      ]
    },
    {
      "cell_type": "markdown",
      "metadata": {
        "id": "cKuj4AIhyHKJ"
      },
      "source": [
        "- Thư viện thao tác với tập tin và thư mục: import os\n",
        "- Các hàm cơ bản:\n",
        "    + Hàm listdir() : liệt kê tất cả các tệp, thư mục của đường dẫn được truyền vào. \n",
        "    + Hàm mkdir(): tạo 1 thư mục mới.\n",
        "    + Hàm getcwd(): trả về thư mục làm việc hiện tại của 1 tiến trình.\n",
        "    + Hàm walk(): duyệt qua hệ thống tệp.\n",
        "    + Hàm chdir(): thay đổi thư mục làm việc hiện tại.\n",
        "    + Hàm rmdir(): xóa thư mục hiện tại."
      ]
    },
    {
      "cell_type": "markdown",
      "metadata": {
        "id": "xgIRvNKLyYTs"
      },
      "source": [
        "13.1.2"
      ]
    },
    {
      "cell_type": "code",
      "metadata": {
        "id": "7CMBzqYhwwYq"
      },
      "source": [
        "import os\n",
        "for (root,dist,files) in os.walk('C:\\\\', topdown=True):\n",
        "    print(root)\n",
        "    print(dist)\n",
        "    print(files)"
      ],
      "execution_count": null,
      "outputs": []
    },
    {
      "cell_type": "markdown",
      "metadata": {
        "id": "tchc9sK6yfw0"
      },
      "source": [
        "13.1.3"
      ]
    },
    {
      "cell_type": "code",
      "metadata": {
        "id": "sGLlSe43yiBP"
      },
      "source": [
        "import os\n",
        "for (root,dirs,files) in os.walk('C:\\\\', topdown = False):\n",
        "    print(\"list 1 = \",files)\n",
        "    print(\"list 2= \" ,[[root],[dirs]])\n",
        "    \n",
        "        "
      ],
      "execution_count": null,
      "outputs": []
    }
  ]
}