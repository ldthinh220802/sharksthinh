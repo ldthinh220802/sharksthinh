{
  "nbformat": 4,
  "nbformat_minor": 0,
  "metadata": {
    "colab": {
      "name": "bai5chuong4",
      "provenance": [],
      "authorship_tag": "ABX9TyP1+82hvz0TwzsWQShtKrV7",
      "include_colab_link": true
    },
    "kernelspec": {
      "name": "python3",
      "display_name": "Python 3"
    }
  },
  "cells": [
    {
      "cell_type": "markdown",
      "metadata": {
        "id": "view-in-github",
        "colab_type": "text"
      },
      "source": [
        "<a href=\"https://colab.research.google.com/github/ldthinh220802/sharksthinh/blob/main/bai5chuong4.ipynb\" target=\"_parent\"><img src=\"https://colab.research.google.com/assets/colab-badge.svg\" alt=\"Open In Colab\"/></a>"
      ]
    },
    {
      "cell_type": "code",
      "metadata": {
        "id": "NUInush4ADx9"
      },
      "source": [
        "import numpy as np\n",
        "n= int(input(\"nhập số phần tử của list =\"))\n",
        "rd=np.random.random_sample(size = n)*2000000-1000000\n",
        "print(\"list = \",rd)\n",
        "n=1\n",
        "import math\n",
        "for b in rd:\n",
        "    print(\"giá trị của phần tử thứ \",n,\"=\",b)\n",
        "    if b>0:\n",
        "        print('logarit tự nhiên của phần tử thứ ',n,'=',math.log(b))\n",
        "    else :\n",
        "        print(\"không có logarit tự nhiên của phần tử thứ \",n)\n",
        "    n+=1"
      ],
      "execution_count": null,
      "outputs": []
    }
  ]
}