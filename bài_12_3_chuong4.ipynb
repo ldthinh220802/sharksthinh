{
  "nbformat": 4,
  "nbformat_minor": 0,
  "metadata": {
    "colab": {
      "name": "bài 12-3 chuong4.ipynb",
      "provenance": [],
      "authorship_tag": "ABX9TyMa4PRAihHt0FYGB9LedRxa",
      "include_colab_link": true
    },
    "kernelspec": {
      "name": "python3",
      "display_name": "Python 3"
    }
  },
  "cells": [
    {
      "cell_type": "markdown",
      "metadata": {
        "id": "view-in-github",
        "colab_type": "text"
      },
      "source": [
        "<a href=\"https://colab.research.google.com/github/ldthinh220802/sharksthinh/blob/main/b%C3%A0i_12_3_chuong4.ipynb\" target=\"_parent\"><img src=\"https://colab.research.google.com/assets/colab-badge.svg\" alt=\"Open In Colab\"/></a>"
      ]
    },
    {
      "cell_type": "code",
      "metadata": {
        "colab": {
          "base_uri": "https://localhost:8080/"
        },
        "id": "Qm7YDvZw8s2F",
        "outputId": "9b6e0615-bbfb-47fd-b612-2de63d6368fe"
      },
      "source": [
        "#1.Tạo ngẫu nhiên số  phần tử của List  50 <= n <= 100\n",
        "import numpy as np\n",
        "import random\n",
        "n = random.randint(50,100)\n",
        "rd = np.random.random_sample(size=n)*10000-10000\n",
        "print(\"list1 = \",rd)\n",
        "\n",
        "\n",
        "#2. Tạo ngẫu nhiên List gồm n phần tử với cấu trúc sau: [{'name': ' sinh ngẫu nhiên', 'age': 'sinh ngẫu nhiên'}] có tất cả n dictionary như trên trong List.\n",
        "import random,string\n",
        "x = random.randint(2,50)\n",
        "z= list()\n",
        "for i in range (x):\n",
        "    y = random.randint(2,10)\n",
        "    t = random.choice(string.ascii_uppercase)\n",
        "    h = t+ ''.join(random.choice(string.ascii_lowercase) for i in range (y))\n",
        "    m = random.randint(0, 100)\n",
        "    k = [{'name':h, 'age':m}] \n",
        "    z.extend(k) \n",
        "print(\"list 2= \",z)\n",
        "\n"
      ],
      "execution_count": 1,
      "outputs": [
        {
          "output_type": "stream",
          "text": [
            "list1 =  [-3253.47018996 -4491.04122382 -9123.09788035  -657.21658206\n",
            " -8996.90205627 -8986.00869553 -3261.93198872 -9890.9404026\n",
            " -1763.95960615 -3687.08012822 -5637.61569086 -9696.12539836\n",
            " -3514.89701287 -3758.62695866   -13.27044317 -2006.94607091\n",
            " -1432.6846115  -7369.25743683 -9733.77542666 -7042.06349963\n",
            " -2355.02563313 -9771.14443684 -4231.6849434  -1533.4625206\n",
            " -7559.17191072  -135.15820954 -5776.92800377 -5434.52362194\n",
            " -8124.42755731 -1740.39163142 -4695.95574486 -5657.42217267\n",
            " -2213.10794555 -5861.34106612 -5560.42629947 -1863.63464248\n",
            " -9769.28199743  -536.7534905  -1305.47564529 -8365.94617798\n",
            " -5554.04941218 -9211.90854546 -6000.93639639 -4451.54914395\n",
            "  -311.76147963 -3884.453954   -6464.79297085 -9737.83388928\n",
            " -6200.74853201 -4142.6795667  -7381.79438821 -6875.28365894\n",
            " -8757.33380135 -7483.91908903 -3828.47949508 -4903.67653001\n",
            "  -595.14042402 -8886.4321075  -8012.23764432 -3699.73562962\n",
            " -4959.86821463  -899.32506918 -9530.65710271 -5817.16105871\n",
            " -4318.01422331 -8079.39491604 -6048.82480335 -3849.13683399\n",
            " -1887.43248431 -4173.71523225 -2392.25425126  -734.24034394\n",
            " -4345.34168474 -2483.69831736 -6098.5975755  -8022.57861939\n",
            " -2134.846815    -727.64250655 -6742.71132006 -1083.00101444\n",
            " -8320.11683285 -9288.94522943 -2669.6730199   -958.43531542\n",
            " -5633.29786156 -2313.03980699 -1570.61387452 -9494.13953298\n",
            " -8689.64663822 -9106.12830145 -1219.13745392 -9492.91842679\n",
            " -6848.88506523 -8114.94794428 -1027.36436463 -1856.50209566\n",
            "  -858.59000027   -42.94745401 -6418.75401729 -4324.96281402]\n",
            "list 2=  [{'name': 'Prbmplotvyb', 'age': 2}, {'name': 'Ysn', 'age': 10}, {'name': 'Qwej', 'age': 89}, {'name': 'Fddy', 'age': 88}, {'name': 'Sxav', 'age': 30}, {'name': 'Labvvxji', 'age': 48}, {'name': 'Emfujjpbf', 'age': 62}, {'name': 'Lexsm', 'age': 28}, {'name': 'Mkwcrj', 'age': 48}, {'name': 'Aiupoa', 'age': 40}, {'name': 'Kiiuhgsxieh', 'age': 69}, {'name': 'Tseoz', 'age': 23}, {'name': 'Ovrnyw', 'age': 13}, {'name': 'Xshmojr', 'age': 33}, {'name': 'Fqfcgfsyqlm', 'age': 83}, {'name': 'Qxr', 'age': 97}, {'name': 'Mkhqefpdlji', 'age': 36}, {'name': 'Obahur', 'age': 7}, {'name': 'Jmipz', 'age': 36}, {'name': 'Gxkwzwdrjf', 'age': 54}, {'name': 'Uxhtu', 'age': 6}, {'name': 'Ainxdgy', 'age': 44}, {'name': 'Evzl', 'age': 77}, {'name': 'Tjuupkucvvd', 'age': 74}, {'name': 'Gqvwkbhl', 'age': 68}, {'name': 'Hdvplnnzbjp', 'age': 97}, {'name': 'Mpry', 'age': 75}, {'name': 'Jtugh', 'age': 28}, {'name': 'Muntx', 'age': 40}, {'name': 'Cvinbfqxro', 'age': 95}, {'name': 'Egmzjzlosq', 'age': 100}, {'name': 'Ayelkws', 'age': 17}, {'name': 'Wnbvdbaxh', 'age': 87}]\n"
          ],
          "name": "stdout"
        }
      ]
    }
  ]
}