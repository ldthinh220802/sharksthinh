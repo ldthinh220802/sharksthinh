{
  "nbformat": 4,
  "nbformat_minor": 0,
  "metadata": {
    "colab": {
      "name": "for nâng cao",
      "provenance": [],
      "authorship_tag": "ABX9TyOjTVFzu8EsMdOsHb+iISec",
      "include_colab_link": true
    },
    "kernelspec": {
      "name": "python3",
      "display_name": "Python 3"
    }
  },
  "cells": [
    {
      "cell_type": "markdown",
      "metadata": {
        "id": "view-in-github",
        "colab_type": "text"
      },
      "source": [
        "<a href=\"https://colab.research.google.com/github/ldthinh220802/sharksthinh/blob/main/for_n%C3%A2ng_cao.ipynb\" target=\"_parent\"><img src=\"https://colab.research.google.com/assets/colab-badge.svg\" alt=\"Open In Colab\"/></a>"
      ]
    },
    {
      "cell_type": "code",
      "metadata": {
        "colab": {
          "base_uri": "https://localhost:8080/"
        },
        "id": "toDkZI1HmrWP",
        "outputId": "07cb263c-3b13-4f9f-df3b-ef7656e5bf0b"
      },
      "source": [
        "list2 = [({'name': 'Peter', 'age':2}, {'name': 'John', 'age':21}), \n",
        "         ({'name': 'Mary', 'age':2}, {'name': 'Trandanpro', 'age':21}), \n",
        "         ({'name': 'Nam', 'age':2}, {'name': 'Hung', 'age':21}), \n",
        "         ({'name': 'Mai', 'age':2}, {'name': 'Loan', 'age':21})]\n",
        "for i in list2:\n",
        "   #print(i)\n",
        "   for x in i :\n",
        "     print(x)\n",
        "     for count,y in enumerate(x,1):\n",
        "       print(count,y,\":\",x[y])\n",
        "      \n",
        "    "
      ],
      "execution_count": 54,
      "outputs": [
        {
          "output_type": "stream",
          "text": [
            "{'name': 'Peter', 'age': 2}\n",
            "1 name : Peter\n",
            "2 age : 2\n",
            "{'name': 'John', 'age': 21}\n",
            "1 name : John\n",
            "2 age : 21\n",
            "{'name': 'Mary', 'age': 2}\n",
            "1 name : Mary\n",
            "2 age : 2\n",
            "{'name': 'Trandanpro', 'age': 21}\n",
            "1 name : Trandanpro\n",
            "2 age : 21\n",
            "{'name': 'Nam', 'age': 2}\n",
            "1 name : Nam\n",
            "2 age : 2\n",
            "{'name': 'Hung', 'age': 21}\n",
            "1 name : Hung\n",
            "2 age : 21\n",
            "{'name': 'Mai', 'age': 2}\n",
            "1 name : Mai\n",
            "2 age : 2\n",
            "{'name': 'Loan', 'age': 21}\n",
            "1 name : Loan\n",
            "2 age : 21\n"
          ],
          "name": "stdout"
        }
      ]
    }
  ]
}