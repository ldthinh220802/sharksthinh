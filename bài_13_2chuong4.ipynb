{
  "nbformat": 4,
  "nbformat_minor": 0,
  "metadata": {
    "kernelspec": {
      "display_name": "Python 3",
      "language": "python",
      "name": "python3"
    },
    "language_info": {
      "codemirror_mode": {
        "name": "ipython",
        "version": 3
      },
      "file_extension": ".py",
      "mimetype": "text/x-python",
      "name": "python",
      "nbconvert_exporter": "python",
      "pygments_lexer": "ipython3",
      "version": "3.8.5"
    },
    "colab": {
      "name": "bài 13.2chuong4.ipynb",
      "provenance": [],
      "include_colab_link": true
    }
  },
  "cells": [
    {
      "cell_type": "markdown",
      "metadata": {
        "id": "view-in-github",
        "colab_type": "text"
      },
      "source": [
        "<a href=\"https://colab.research.google.com/github/ldthinh220802/sharksthinh/blob/main/b%C3%A0i_13_2chuong4.ipynb\" target=\"_parent\"><img src=\"https://colab.research.google.com/assets/colab-badge.svg\" alt=\"Open In Colab\"/></a>"
      ]
    },
    {
      "cell_type": "markdown",
      "metadata": {
        "id": "Ufeh2wcfk1su"
      },
      "source": [
        "# 13.2.1: Nhập tên thư mục từ bàn phím và tạo thư mục."
      ]
    },
    {
      "cell_type": "code",
      "metadata": {
        "id": "L5CL1t6Fk1su",
        "outputId": "1d4702fe-b39c-42d2-d84f-e83e589ff897"
      },
      "source": [
        "import os\n",
        "path = 'D:\\\\'\n",
        "os.chdir(path)\n",
        "print(os.listdir(path))\n",
        "os.mkdir('thinh')\n",
        "print(os.listdir(path))"
      ],
      "execution_count": null,
      "outputs": [
        {
          "output_type": "stream",
          "text": [
            "['$RECYCLE.BIN', 'Game', 'Picture', 'System Volume Information', 'Video']\n",
            "['$RECYCLE.BIN', 'Game', 'Picture', 'System Volume Information', 'thinh', 'Video']\n"
          ],
          "name": "stdout"
        }
      ]
    },
    {
      "cell_type": "markdown",
      "metadata": {
        "id": "7qZtQLP6k1sv"
      },
      "source": [
        "# 13.2.2: Nhập tên tập tin từ bàn phím và tạo tập tin vào thư mục mới tạo ở trên:"
      ]
    },
    {
      "cell_type": "markdown",
      "metadata": {
        "id": "ezNrkPxEk1sv"
      },
      "source": [
        "     # 13.2.2A: Tạo tệp tin."
      ]
    },
    {
      "cell_type": "code",
      "metadata": {
        "id": "6IB7cZChk1sv",
        "outputId": "bde702c7-36d8-43b8-9798-1ce2ffd080e5"
      },
      "source": [
        "import os\n",
        "a = open(\"sharkthinh.txt\",\"x\")\n",
        "a.close()\n",
        "print(\"Đã tạo tệp tin thành công và được lưu ở ổ đĩa phía dưới:\")\n",
        "print(os.getcwd())"
      ],
      "execution_count": null,
      "outputs": [
        {
          "output_type": "stream",
          "text": [
            "Đã tạo tệp tin thành công và được lưu ở ổ đĩa phía dưới:\n",
            "D:\\\n"
          ],
          "name": "stdout"
        }
      ]
    },
    {
      "cell_type": "markdown",
      "metadata": {
        "id": "TASmLNdpk1sv"
      },
      "source": [
        "     # 13.2.2B: Di truyển tập tin vừa mới tạo vào thư mục ở trên."
      ]
    },
    {
      "cell_type": "code",
      "metadata": {
        "id": "fKGZGCuSk1sv",
        "outputId": "3026a54a-5537-4db5-8615-46a3d177d68c"
      },
      "source": [
        "import os\n",
        "import shutil\n",
        "shutil.move(\"D:/sharkthinh.txt\",\"D:/thinh\")"
      ],
      "execution_count": null,
      "outputs": [
        {
          "output_type": "execute_result",
          "data": {
            "text/plain": [
              "'D:/thinh\\\\sharkthinh.txt'"
            ]
          },
          "metadata": {
            "tags": []
          },
          "execution_count": 26
        }
      ]
    }
  ]
}