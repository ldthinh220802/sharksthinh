{
  "nbformat": 4,
  "nbformat_minor": 0,
  "metadata": {
    "kernelspec": {
      "display_name": "Python 3",
      "language": "python",
      "name": "python3"
    },
    "language_info": {
      "codemirror_mode": {
        "name": "ipython",
        "version": 3
      },
      "file_extension": ".py",
      "mimetype": "text/x-python",
      "name": "python",
      "nbconvert_exporter": "python",
      "pygments_lexer": "ipython3",
      "version": "3.7.3"
    },
    "colab": {
      "name": "bai-tap-sinh-mau-ngau-nhien.ipynb",
      "provenance": [],
      "include_colab_link": true
    }
  },
  "cells": [
    {
      "cell_type": "markdown",
      "metadata": {
        "id": "view-in-github",
        "colab_type": "text"
      },
      "source": [
        "<a href=\"https://colab.research.google.com/github/ldthinh220802/sharksthinh/blob/main/bai_tap_sinh_mau_ngau_nhien.ipynb\" target=\"_parent\"><img src=\"https://colab.research.google.com/assets/colab-badge.svg\" alt=\"Open In Colab\"/></a>"
      ]
    },
    {
      "cell_type": "markdown",
      "metadata": {
        "id": "PG04gogmYyiw"
      },
      "source": [
        "Sử dụng thư viện Numpy\n",
        "\n",
        "1. Sinh mẫu ngẫu nhiên bằng hàm arange trong khoảng [-15, 27] với khoảng cách là 0.7 và in kết quả ra màn hình"
      ]
    },
    {
      "cell_type": "code",
      "metadata": {
        "id": "187d1038Yyi5",
        "outputId": "6efc37b0-cdc2-44b1-f60d-87cfbec64a43",
        "colab": {
          "base_uri": "https://localhost:8080/"
        }
      },
      "source": [
        "import numpy as np\n",
        "np.arange(-15,27,0.7)\n"
      ],
      "execution_count": 5,
      "outputs": [
        {
          "output_type": "execute_result",
          "data": {
            "text/plain": [
              "array([-15. , -14.3, -13.6, -12.9, -12.2, -11.5, -10.8, -10.1,  -9.4,\n",
              "        -8.7,  -8. ,  -7.3,  -6.6,  -5.9,  -5.2,  -4.5,  -3.8,  -3.1,\n",
              "        -2.4,  -1.7,  -1. ,  -0.3,   0.4,   1.1,   1.8,   2.5,   3.2,\n",
              "         3.9,   4.6,   5.3,   6. ,   6.7,   7.4,   8.1,   8.8,   9.5,\n",
              "        10.2,  10.9,  11.6,  12.3,  13. ,  13.7,  14.4,  15.1,  15.8,\n",
              "        16.5,  17.2,  17.9,  18.6,  19.3,  20. ,  20.7,  21.4,  22.1,\n",
              "        22.8,  23.5,  24.2,  24.9,  25.6,  26.3,  27. ])"
            ]
          },
          "metadata": {
            "tags": []
          },
          "execution_count": 5
        }
      ]
    },
    {
      "cell_type": "markdown",
      "metadata": {
        "id": "UgO7o-FPYyi6"
      },
      "source": [
        "2. Sinh mẫu ngẫu nhiên theo phân phối chuẩn với mean = 2.7 std = 1.2 và size = 40\n",
        "In kết quả ra màn hình"
      ]
    },
    {
      "cell_type": "code",
      "metadata": {
        "id": "14m1ELyFYyi7",
        "outputId": "fa8ff865-f213-412f-ab43-0e9eb70d8e03",
        "colab": {
          "base_uri": "https://localhost:8080/"
        }
      },
      "source": [
        "np.random.normal(loc = 2.7, scale = 1.2, size = 40)"
      ],
      "execution_count": 7,
      "outputs": [
        {
          "output_type": "execute_result",
          "data": {
            "text/plain": [
              "array([ 4.81686282,  3.18018865,  3.87448558,  5.38907184,  4.94106959,\n",
              "        1.52726654,  3.8401061 ,  2.51837135,  2.57613738,  3.1927182 ,\n",
              "        2.87285229,  4.44512821,  3.61324527,  2.84601002,  3.23263588,\n",
              "        3.10040919,  4.49289489,  2.45381008,  3.07568124,  1.67508511,\n",
              "       -0.36358778,  3.48434231,  3.73732344,  1.80940198,  5.42370555,\n",
              "        0.95476119,  2.75491022,  2.47537938,  4.53933506,  4.46323052,\n",
              "        2.88593691,  3.15379502,  1.6346571 ,  0.32304424,  2.28250542,\n",
              "        2.88761876,  4.17634882,  4.14285582,  2.23520782,  2.3372367 ])"
            ]
          },
          "metadata": {
            "tags": []
          },
          "execution_count": 7
        }
      ]
    },
    {
      "cell_type": "markdown",
      "metadata": {
        "id": "siDvTrW5Yyi7"
      },
      "source": [
        "3. Sinh mẫu ngẫu nhiên từ vector ['Viet Nam', 'Britain', 'France', 'Russia', 'Singapore'] \n",
        "\n",
        "với kích thước là 17 theo phân phối chuẩn"
      ]
    },
    {
      "cell_type": "code",
      "metadata": {
        "id": "SSM3WUG5Yyi7",
        "outputId": "b178e703-5419-4fdf-9beb-9e9feb77f64f",
        "colab": {
          "base_uri": "https://localhost:8080/"
        }
      },
      "source": [
        "np.random.choice(['Viet Nam', 'Britain', 'France', 'Russia', 'Singapore'], 17)"
      ],
      "execution_count": 9,
      "outputs": [
        {
          "output_type": "execute_result",
          "data": {
            "text/plain": [
              "array(['Viet Nam', 'Britain', 'Britain', 'Russia', 'Viet Nam', 'Viet Nam',\n",
              "       'Britain', 'France', 'Singapore', 'France', 'Viet Nam', 'Russia',\n",
              "       'France', 'France', 'Viet Nam', 'Britain', 'Viet Nam'], dtype='<U9')"
            ]
          },
          "metadata": {
            "tags": []
          },
          "execution_count": 9
        }
      ]
    },
    {
      "cell_type": "markdown",
      "metadata": {
        "id": "MNM1UQcFYyi8"
      },
      "source": [
        "4. Sinh mẫu ngẫu nhiên ở câu 3 nhưng không theo phân phối chuẩn mà theo 1 vector đặc tả giá trị xác suất do bạn chọn"
      ]
    },
    {
      "cell_type": "code",
      "metadata": {
        "id": "q9dd6msIYyi8",
        "outputId": "64a08ad7-3862-4b12-e76e-5f3e484bde7f",
        "colab": {
          "base_uri": "https://localhost:8080/"
        }
      },
      "source": [
        "np.random.choice(['Viet Nam', 'Britain', 'France', 'Russia', 'Singapore'], 9,[0.4, 0.2, 0.1, 0.1, 0,2])"
      ],
      "execution_count": 24,
      "outputs": [
        {
          "output_type": "execute_result",
          "data": {
            "text/plain": [
              "array(['Viet Nam', 'Viet Nam', 'Britain', 'Britain', 'Viet Nam', 'Russia',\n",
              "       'Viet Nam', 'Russia', 'Viet Nam'], dtype='<U9')"
            ]
          },
          "metadata": {
            "tags": []
          },
          "execution_count": 24
        }
      ]
    },
    {
      "cell_type": "markdown",
      "metadata": {
        "id": "2lIrzQKcYyi8"
      },
      "source": [
        "Sử dụng thư việc scipy.stats để sinh mẫu ngẫu nhiên\n",
        "\n",
        "1. Sinh mẫu ngẫu nhiên theo phân phối chuẩn với mean = 12.7, std = 2.6 và size = 30. In kết quả ra màn hình"
      ]
    },
    {
      "cell_type": "code",
      "metadata": {
        "id": "c1FmkCN8Yyi8",
        "outputId": "37c97176-5941-4902-9bc3-4fa9e7e70ab2",
        "colab": {
          "base_uri": "https://localhost:8080/"
        }
      },
      "source": [
        "from scipy import stats\n",
        "stats.norm.rvs(loc = 12.7, scale = 2.6, size = 30)"
      ],
      "execution_count": 27,
      "outputs": [
        {
          "output_type": "execute_result",
          "data": {
            "text/plain": [
              "array([15.01336121,  9.69366818, 13.73276523, 14.19980402, 12.85600024,\n",
              "       14.03586399, 10.99133972, 10.92945439, 13.62240113,  8.97119858,\n",
              "       13.9265328 , 12.57508452, 11.19034036, 13.35724167, 12.65076271,\n",
              "       10.90422405, 14.77938028, 18.45676711, 13.84106568, 14.35947523,\n",
              "       17.9411876 , 12.06650285, 16.6879727 , 14.6883506 ,  6.31263454,\n",
              "        8.27051335, 13.79239799, 11.92481241, 13.38536569, 14.6012914 ])"
            ]
          },
          "metadata": {
            "tags": []
          },
          "execution_count": 27
        }
      ]
    },
    {
      "cell_type": "markdown",
      "metadata": {
        "id": "9q_Xu9pZYyi9"
      },
      "source": [
        "2. Hãy sinh một mẫu ngẫu nhiên theo phân phối Poisson"
      ]
    },
    {
      "cell_type": "code",
      "metadata": {
        "id": "icCYS5FuYyi9",
        "outputId": "4760f04b-af52-4be4-e7b0-bbf1724c1527",
        "colab": {
          "base_uri": "https://localhost:8080/"
        }
      },
      "source": [
        "stats.poisson.rvs(loc=100,\n",
        "                              mu=50,\n",
        "                              size=100)"
      ],
      "execution_count": 30,
      "outputs": [
        {
          "output_type": "execute_result",
          "data": {
            "text/plain": [
              "array([153, 151, 141, 144, 146, 148, 137, 148, 147, 159, 152, 153, 151,\n",
              "       143, 139, 148, 152, 152, 142, 146, 158, 148, 155, 148, 153, 153,\n",
              "       148, 136, 144, 156, 155, 143, 151, 138, 144, 148, 149, 164, 152,\n",
              "       163, 144, 154, 152, 149, 153, 154, 138, 138, 152, 155, 141, 136,\n",
              "       147, 152, 142, 155, 159, 138, 156, 149, 154, 152, 151, 154, 142,\n",
              "       158, 141, 144, 154, 149, 144, 153, 147, 152, 143, 145, 177, 143,\n",
              "       147, 154, 133, 150, 138, 163, 146, 154, 145, 143, 164, 155, 155,\n",
              "       138, 155, 151, 151, 134, 152, 155, 153, 155])"
            ]
          },
          "metadata": {
            "tags": []
          },
          "execution_count": 30
        }
      ]
    },
    {
      "cell_type": "code",
      "metadata": {
        "id": "My2U3CAlYyi9"
      },
      "source": [
        ""
      ],
      "execution_count": null,
      "outputs": []
    }
  ]
}