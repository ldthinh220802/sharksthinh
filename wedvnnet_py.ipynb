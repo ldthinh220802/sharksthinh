{
  "nbformat": 4,
  "nbformat_minor": 0,
  "metadata": {
    "colab": {
      "name": "wedvnnet.py",
      "provenance": [],
      "authorship_tag": "ABX9TyN5nxBzWPb0UCZYppzjkCZF",
      "include_colab_link": true
    },
    "kernelspec": {
      "name": "python3",
      "display_name": "Python 3"
    }
  },
  "cells": [
    {
      "cell_type": "markdown",
      "metadata": {
        "id": "view-in-github",
        "colab_type": "text"
      },
      "source": [
        "<a href=\"https://colab.research.google.com/github/ldthinh220802/sharksthinh/blob/main/wedvnnet_py.ipynb\" target=\"_parent\"><img src=\"https://colab.research.google.com/assets/colab-badge.svg\" alt=\"Open In Colab\"/></a>"
      ]
    },
    {
      "cell_type": "code",
      "metadata": {
        "id": "mi03A9I-x_DT"
      },
      "source": [
        "from bs4 import BeautifulSoup\r\n",
        "import requests\r\n",
        "import os"
      ],
      "execution_count": 10,
      "outputs": []
    },
    {
      "cell_type": "markdown",
      "metadata": {
        "id": "umzP2U9nplu_"
      },
      "source": [
        "1. Tải url"
      ]
    },
    {
      "cell_type": "code",
      "metadata": {
        "id": "8DQt3BFrmcc-"
      },
      "source": [
        "\r\n",
        "link=requests.get('https://vietnamnet.vn/vn/thoi-su/quoc-hoi/phat-bieu-cua-chu-tich-qh-tai-cuoc-gap-mat-dbqh-qua-cac-thoi-ky-703465.html')\r\n",
        "link.text\r\n",
        "soup_a = BeautifulSoup(link.text,'html.parser')\r\n",
        "soup_a"
      ],
      "execution_count": null,
      "outputs": []
    },
    {
      "cell_type": "markdown",
      "metadata": {
        "id": "lucT59ycv2ar"
      },
      "source": [
        "2.lưu html vào mục chỉ định"
      ]
    },
    {
      "cell_type": "code",
      "metadata": {
        "id": "t4RkAibwv9By"
      },
      "source": [
        "file = 'LDT2' + '.txt'\r\n",
        "f = open(file, 'w')\r\n",
        "f.write(link.text)    #Nhập nội dung file\r\n",
        "f.close()"
      ],
      "execution_count": 12,
      "outputs": []
    },
    {
      "cell_type": "markdown",
      "metadata": {
        "id": "6yTkzgsDwDmz"
      },
      "source": [
        "3.Cách lấy 1 phần tử đầu tiên ra khỏi list và xóa nó khỏi list"
      ]
    },
    {
      "cell_type": "code",
      "metadata": {
        "id": "t3T3QsDbwIYz"
      },
      "source": [
        "l = ['luong','duc','thinh','dep','zai','oke']\r\n",
        "print('CHuỗi trước khi edit:',l)\r\n",
        "x = l.pop(0)\r\n",
        "print('Phần tử đầu tiên:',x)\r\n",
        "print('Chuỗi sau khi edit:',l)"
      ],
      "execution_count": null,
      "outputs": []
    },
    {
      "cell_type": "markdown",
      "metadata": {
        "id": "ChMdxmf6wOxz"
      },
      "source": [
        "\r\n",
        "4.Cách lấy các url trong html"
      ]
    },
    {
      "cell_type": "code",
      "metadata": {
        "id": "WG2UnnRSwPVj"
      },
      "source": [
        "from urllib.request import urlopen\r\n",
        "from bs4 import BeautifulSoup \r\n",
        "\r\n",
        "html = urlopen(url)\r\n",
        "bs = BeautifulSoup(html, 'html.parser')\r\n",
        "for link in bs.find_all(\"a\"):\r\n",
        "    if 'href' in link.attrs:\r\n",
        "        print(link.attrs['href'])"
      ],
      "execution_count": null,
      "outputs": []
    }
  ]
}