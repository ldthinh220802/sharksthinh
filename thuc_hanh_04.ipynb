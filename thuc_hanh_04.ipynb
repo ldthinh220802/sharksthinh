{
  "nbformat": 4,
  "nbformat_minor": 0,
  "metadata": {
    "kernelspec": {
      "display_name": "Python 3",
      "language": "python",
      "name": "python3"
    },
    "language_info": {
      "codemirror_mode": {
        "name": "ipython",
        "version": 3
      },
      "file_extension": ".py",
      "mimetype": "text/x-python",
      "name": "python",
      "nbconvert_exporter": "python",
      "pygments_lexer": "ipython3",
      "version": "3.7.3"
    },
    "colab": {
      "name": "thuc-hanh-04.ipynb",
      "provenance": [],
      "include_colab_link": true
    }
  },
  "cells": [
    {
      "cell_type": "markdown",
      "metadata": {
        "id": "view-in-github",
        "colab_type": "text"
      },
      "source": [
        "<a href=\"https://colab.research.google.com/github/ldthinh220802/sharksthinh/blob/main/thuc_hanh_04.ipynb\" target=\"_parent\"><img src=\"https://colab.research.google.com/assets/colab-badge.svg\" alt=\"Open In Colab\"/></a>"
      ]
    },
    {
      "cell_type": "markdown",
      "metadata": {
        "id": "WcI7R-S431a1"
      },
      "source": [
        "THỰC HÀNH LAMBDA - APPLY\n",
        "\n",
        "1. Sử dụng bộ dữ liệu baseball.csv"
      ]
    },
    {
      "cell_type": "code",
      "metadata": {
        "id": "Iz_4B8-431a_",
        "outputId": "f4464b80-efc0-42e4-9c01-cd483f56f7be",
        "colab": {
          "base_uri": "https://localhost:8080/",
          "height": 343
        }
      },
      "source": [
        "import pandas as pd\n",
        "import numpy as np\n",
        "\n",
        "df = pd.read_csv('baseball.csv')\n",
        "df.head(10)"
      ],
      "execution_count": 2,
      "outputs": [
        {
          "output_type": "execute_result",
          "data": {
            "text/html": [
              "<div>\n",
              "<style scoped>\n",
              "    .dataframe tbody tr th:only-of-type {\n",
              "        vertical-align: middle;\n",
              "    }\n",
              "\n",
              "    .dataframe tbody tr th {\n",
              "        vertical-align: top;\n",
              "    }\n",
              "\n",
              "    .dataframe thead th {\n",
              "        text-align: right;\n",
              "    }\n",
              "</style>\n",
              "<table border=\"1\" class=\"dataframe\">\n",
              "  <thead>\n",
              "    <tr style=\"text-align: right;\">\n",
              "      <th></th>\n",
              "      <th>id</th>\n",
              "      <th>player</th>\n",
              "      <th>year</th>\n",
              "      <th>stint</th>\n",
              "      <th>team</th>\n",
              "      <th>lg</th>\n",
              "      <th>g</th>\n",
              "      <th>ab</th>\n",
              "      <th>r</th>\n",
              "      <th>h</th>\n",
              "      <th>X2b</th>\n",
              "      <th>X3b</th>\n",
              "      <th>hr</th>\n",
              "      <th>rbi</th>\n",
              "      <th>sb</th>\n",
              "      <th>cs</th>\n",
              "      <th>bb</th>\n",
              "      <th>so</th>\n",
              "      <th>ibb</th>\n",
              "      <th>hbp</th>\n",
              "      <th>sh</th>\n",
              "      <th>sf</th>\n",
              "      <th>gidp</th>\n",
              "    </tr>\n",
              "  </thead>\n",
              "  <tbody>\n",
              "    <tr>\n",
              "      <th>0</th>\n",
              "      <td>88641</td>\n",
              "      <td>womacto01</td>\n",
              "      <td>2006</td>\n",
              "      <td>2</td>\n",
              "      <td>CHN</td>\n",
              "      <td>NL</td>\n",
              "      <td>19</td>\n",
              "      <td>50</td>\n",
              "      <td>6</td>\n",
              "      <td>14</td>\n",
              "      <td>1</td>\n",
              "      <td>0</td>\n",
              "      <td>1</td>\n",
              "      <td>2.0</td>\n",
              "      <td>1.0</td>\n",
              "      <td>1.0</td>\n",
              "      <td>4</td>\n",
              "      <td>4.0</td>\n",
              "      <td>0.0</td>\n",
              "      <td>0.0</td>\n",
              "      <td>3.0</td>\n",
              "      <td>0.0</td>\n",
              "      <td>0.0</td>\n",
              "    </tr>\n",
              "    <tr>\n",
              "      <th>1</th>\n",
              "      <td>88643</td>\n",
              "      <td>schilcu01</td>\n",
              "      <td>2006</td>\n",
              "      <td>1</td>\n",
              "      <td>BOS</td>\n",
              "      <td>AL</td>\n",
              "      <td>31</td>\n",
              "      <td>2</td>\n",
              "      <td>0</td>\n",
              "      <td>1</td>\n",
              "      <td>0</td>\n",
              "      <td>0</td>\n",
              "      <td>0</td>\n",
              "      <td>0.0</td>\n",
              "      <td>0.0</td>\n",
              "      <td>0.0</td>\n",
              "      <td>0</td>\n",
              "      <td>1.0</td>\n",
              "      <td>0.0</td>\n",
              "      <td>0.0</td>\n",
              "      <td>0.0</td>\n",
              "      <td>0.0</td>\n",
              "      <td>0.0</td>\n",
              "    </tr>\n",
              "    <tr>\n",
              "      <th>2</th>\n",
              "      <td>88645</td>\n",
              "      <td>myersmi01</td>\n",
              "      <td>2006</td>\n",
              "      <td>1</td>\n",
              "      <td>NYA</td>\n",
              "      <td>AL</td>\n",
              "      <td>62</td>\n",
              "      <td>0</td>\n",
              "      <td>0</td>\n",
              "      <td>0</td>\n",
              "      <td>0</td>\n",
              "      <td>0</td>\n",
              "      <td>0</td>\n",
              "      <td>0.0</td>\n",
              "      <td>0.0</td>\n",
              "      <td>0.0</td>\n",
              "      <td>0</td>\n",
              "      <td>0.0</td>\n",
              "      <td>0.0</td>\n",
              "      <td>0.0</td>\n",
              "      <td>0.0</td>\n",
              "      <td>0.0</td>\n",
              "      <td>0.0</td>\n",
              "    </tr>\n",
              "    <tr>\n",
              "      <th>3</th>\n",
              "      <td>88649</td>\n",
              "      <td>helliri01</td>\n",
              "      <td>2006</td>\n",
              "      <td>1</td>\n",
              "      <td>MIL</td>\n",
              "      <td>NL</td>\n",
              "      <td>20</td>\n",
              "      <td>3</td>\n",
              "      <td>0</td>\n",
              "      <td>0</td>\n",
              "      <td>0</td>\n",
              "      <td>0</td>\n",
              "      <td>0</td>\n",
              "      <td>0.0</td>\n",
              "      <td>0.0</td>\n",
              "      <td>0.0</td>\n",
              "      <td>0</td>\n",
              "      <td>2.0</td>\n",
              "      <td>0.0</td>\n",
              "      <td>0.0</td>\n",
              "      <td>0.0</td>\n",
              "      <td>0.0</td>\n",
              "      <td>0.0</td>\n",
              "    </tr>\n",
              "    <tr>\n",
              "      <th>4</th>\n",
              "      <td>88650</td>\n",
              "      <td>johnsra05</td>\n",
              "      <td>2006</td>\n",
              "      <td>1</td>\n",
              "      <td>NYA</td>\n",
              "      <td>AL</td>\n",
              "      <td>33</td>\n",
              "      <td>6</td>\n",
              "      <td>0</td>\n",
              "      <td>1</td>\n",
              "      <td>0</td>\n",
              "      <td>0</td>\n",
              "      <td>0</td>\n",
              "      <td>0.0</td>\n",
              "      <td>0.0</td>\n",
              "      <td>0.0</td>\n",
              "      <td>0</td>\n",
              "      <td>4.0</td>\n",
              "      <td>0.0</td>\n",
              "      <td>0.0</td>\n",
              "      <td>0.0</td>\n",
              "      <td>0.0</td>\n",
              "      <td>0.0</td>\n",
              "    </tr>\n",
              "    <tr>\n",
              "      <th>5</th>\n",
              "      <td>88652</td>\n",
              "      <td>finlest01</td>\n",
              "      <td>2006</td>\n",
              "      <td>1</td>\n",
              "      <td>SFN</td>\n",
              "      <td>NL</td>\n",
              "      <td>139</td>\n",
              "      <td>426</td>\n",
              "      <td>66</td>\n",
              "      <td>105</td>\n",
              "      <td>21</td>\n",
              "      <td>12</td>\n",
              "      <td>6</td>\n",
              "      <td>40.0</td>\n",
              "      <td>7.0</td>\n",
              "      <td>0.0</td>\n",
              "      <td>46</td>\n",
              "      <td>55.0</td>\n",
              "      <td>2.0</td>\n",
              "      <td>2.0</td>\n",
              "      <td>3.0</td>\n",
              "      <td>4.0</td>\n",
              "      <td>6.0</td>\n",
              "    </tr>\n",
              "    <tr>\n",
              "      <th>6</th>\n",
              "      <td>88653</td>\n",
              "      <td>gonzalu01</td>\n",
              "      <td>2006</td>\n",
              "      <td>1</td>\n",
              "      <td>ARI</td>\n",
              "      <td>NL</td>\n",
              "      <td>153</td>\n",
              "      <td>586</td>\n",
              "      <td>93</td>\n",
              "      <td>159</td>\n",
              "      <td>52</td>\n",
              "      <td>2</td>\n",
              "      <td>15</td>\n",
              "      <td>73.0</td>\n",
              "      <td>0.0</td>\n",
              "      <td>1.0</td>\n",
              "      <td>69</td>\n",
              "      <td>58.0</td>\n",
              "      <td>10.0</td>\n",
              "      <td>7.0</td>\n",
              "      <td>0.0</td>\n",
              "      <td>6.0</td>\n",
              "      <td>14.0</td>\n",
              "    </tr>\n",
              "    <tr>\n",
              "      <th>7</th>\n",
              "      <td>88662</td>\n",
              "      <td>seleaa01</td>\n",
              "      <td>2006</td>\n",
              "      <td>1</td>\n",
              "      <td>LAN</td>\n",
              "      <td>NL</td>\n",
              "      <td>28</td>\n",
              "      <td>26</td>\n",
              "      <td>2</td>\n",
              "      <td>5</td>\n",
              "      <td>1</td>\n",
              "      <td>0</td>\n",
              "      <td>0</td>\n",
              "      <td>0.0</td>\n",
              "      <td>0.0</td>\n",
              "      <td>0.0</td>\n",
              "      <td>1</td>\n",
              "      <td>7.0</td>\n",
              "      <td>0.0</td>\n",
              "      <td>0.0</td>\n",
              "      <td>6.0</td>\n",
              "      <td>0.0</td>\n",
              "      <td>1.0</td>\n",
              "    </tr>\n",
              "    <tr>\n",
              "      <th>8</th>\n",
              "      <td>89177</td>\n",
              "      <td>francju01</td>\n",
              "      <td>2007</td>\n",
              "      <td>2</td>\n",
              "      <td>ATL</td>\n",
              "      <td>NL</td>\n",
              "      <td>15</td>\n",
              "      <td>40</td>\n",
              "      <td>1</td>\n",
              "      <td>10</td>\n",
              "      <td>3</td>\n",
              "      <td>0</td>\n",
              "      <td>0</td>\n",
              "      <td>8.0</td>\n",
              "      <td>0.0</td>\n",
              "      <td>0.0</td>\n",
              "      <td>4</td>\n",
              "      <td>10.0</td>\n",
              "      <td>1.0</td>\n",
              "      <td>0.0</td>\n",
              "      <td>0.0</td>\n",
              "      <td>1.0</td>\n",
              "      <td>1.0</td>\n",
              "    </tr>\n",
              "    <tr>\n",
              "      <th>9</th>\n",
              "      <td>89178</td>\n",
              "      <td>francju01</td>\n",
              "      <td>2007</td>\n",
              "      <td>1</td>\n",
              "      <td>NYN</td>\n",
              "      <td>NL</td>\n",
              "      <td>40</td>\n",
              "      <td>50</td>\n",
              "      <td>7</td>\n",
              "      <td>10</td>\n",
              "      <td>0</td>\n",
              "      <td>0</td>\n",
              "      <td>1</td>\n",
              "      <td>8.0</td>\n",
              "      <td>2.0</td>\n",
              "      <td>1.0</td>\n",
              "      <td>10</td>\n",
              "      <td>13.0</td>\n",
              "      <td>0.0</td>\n",
              "      <td>0.0</td>\n",
              "      <td>0.0</td>\n",
              "      <td>1.0</td>\n",
              "      <td>1.0</td>\n",
              "    </tr>\n",
              "  </tbody>\n",
              "</table>\n",
              "</div>"
            ],
            "text/plain": [
              "      id     player  year  stint team  lg  ...    so   ibb  hbp   sh   sf  gidp\n",
              "0  88641  womacto01  2006      2  CHN  NL  ...   4.0   0.0  0.0  3.0  0.0   0.0\n",
              "1  88643  schilcu01  2006      1  BOS  AL  ...   1.0   0.0  0.0  0.0  0.0   0.0\n",
              "2  88645  myersmi01  2006      1  NYA  AL  ...   0.0   0.0  0.0  0.0  0.0   0.0\n",
              "3  88649  helliri01  2006      1  MIL  NL  ...   2.0   0.0  0.0  0.0  0.0   0.0\n",
              "4  88650  johnsra05  2006      1  NYA  AL  ...   4.0   0.0  0.0  0.0  0.0   0.0\n",
              "5  88652  finlest01  2006      1  SFN  NL  ...  55.0   2.0  2.0  3.0  4.0   6.0\n",
              "6  88653  gonzalu01  2006      1  ARI  NL  ...  58.0  10.0  7.0  0.0  6.0  14.0\n",
              "7  88662   seleaa01  2006      1  LAN  NL  ...   7.0   0.0  0.0  6.0  0.0   1.0\n",
              "8  89177  francju01  2007      2  ATL  NL  ...  10.0   1.0  0.0  0.0  1.0   1.0\n",
              "9  89178  francju01  2007      1  NYN  NL  ...  13.0   0.0  0.0  0.0  1.0   1.0\n",
              "\n",
              "[10 rows x 23 columns]"
            ]
          },
          "metadata": {
            "tags": []
          },
          "execution_count": 2
        }
      ]
    },
    {
      "cell_type": "markdown",
      "metadata": {
        "id": "sMYtoebE31bA"
      },
      "source": [
        "2. Hãy xây dựng hàm lambda theo công thức sau: $\\frac{x + log(x)}{\\sqrt(x)}$"
      ]
    },
    {
      "cell_type": "code",
      "metadata": {
        "id": "Zq7iPV1X31bB",
        "outputId": "a63975fd-9726-46a8-8813-2afc9ac30a5c",
        "colab": {
          "base_uri": "https://localhost:8080/"
        }
      },
      "source": [
        "a = lambda x: (x + np.log10(x))/np.sqrt(x)\n",
        "print(a(10))"
      ],
      "execution_count": 3,
      "outputs": [
        {
          "output_type": "stream",
          "text": [
            "3.478505426185217\n"
          ],
          "name": "stdout"
        }
      ]
    },
    {
      "cell_type": "markdown",
      "metadata": {
        "id": "x53ibHBN31bB"
      },
      "source": [
        "3. Hãy thực thi hàm apply với lambda ở trên theo chiều ngang và chiều dọc đối với 1 Series do bạn chọn từ data frame ở bước 1"
      ]
    },
    {
      "cell_type": "code",
      "metadata": {
        "id": "TlPpDosX31bC",
        "outputId": "2f716194-e67b-45fb-86ef-312ba47c2f5b",
        "colab": {
          "base_uri": "https://localhost:8080/"
        }
      },
      "source": [
        "df.g.apply(a)"
      ],
      "execution_count": 5,
      "outputs": [
        {
          "output_type": "execute_result",
          "data": {
            "text/plain": [
              "0      4.652265\n",
              "1      5.835621\n",
              "2      8.101642\n",
              "3      4.763055\n",
              "4      6.008902\n",
              "        ...    \n",
              "95     6.093598\n",
              "96     4.652265\n",
              "97    11.007858\n",
              "98     9.535317\n",
              "99     3.147718\n",
              "Name: g, Length: 100, dtype: float64"
            ]
          },
          "metadata": {
            "tags": []
          },
          "execution_count": 5
        }
      ]
    },
    {
      "cell_type": "markdown",
      "metadata": {
        "id": "lhkQFPj331bC"
      },
      "source": [
        "4. Hãy thực thi hàm apply với lambda ở trên theo chiều ngang và chiều dọc với 1 nhóm cột (hoặc có thể là toàn bộ) của data frame ở bước 1"
      ]
    },
    {
      "cell_type": "code",
      "metadata": {
        "id": "FrccS5aZ31bC",
        "outputId": "2be8d7f0-b733-4aac-9f2c-8d11e84e00ec",
        "colab": {
          "base_uri": "https://localhost:8080/",
          "height": 435
        }
      },
      "source": [
        "df_new = df[['g', 'so']]\n",
        "df_new.apply(a)"
      ],
      "execution_count": 7,
      "outputs": [
        {
          "output_type": "stream",
          "text": [
            "/usr/local/lib/python3.7/dist-packages/pandas/core/series.py:726: RuntimeWarning: divide by zero encountered in log10\n",
            "  result = getattr(ufunc, method)(*inputs, **kwargs)\n"
          ],
          "name": "stderr"
        },
        {
          "output_type": "execute_result",
          "data": {
            "text/html": [
              "<div>\n",
              "<style scoped>\n",
              "    .dataframe tbody tr th:only-of-type {\n",
              "        vertical-align: middle;\n",
              "    }\n",
              "\n",
              "    .dataframe tbody tr th {\n",
              "        vertical-align: top;\n",
              "    }\n",
              "\n",
              "    .dataframe thead th {\n",
              "        text-align: right;\n",
              "    }\n",
              "</style>\n",
              "<table border=\"1\" class=\"dataframe\">\n",
              "  <thead>\n",
              "    <tr style=\"text-align: right;\">\n",
              "      <th></th>\n",
              "      <th>g</th>\n",
              "      <th>so</th>\n",
              "    </tr>\n",
              "  </thead>\n",
              "  <tbody>\n",
              "    <tr>\n",
              "      <th>0</th>\n",
              "      <td>4.652265</td>\n",
              "      <td>2.301030</td>\n",
              "    </tr>\n",
              "    <tr>\n",
              "      <th>1</th>\n",
              "      <td>5.835621</td>\n",
              "      <td>1.000000</td>\n",
              "    </tr>\n",
              "    <tr>\n",
              "      <th>2</th>\n",
              "      <td>8.101642</td>\n",
              "      <td>-inf</td>\n",
              "    </tr>\n",
              "    <tr>\n",
              "      <th>3</th>\n",
              "      <td>4.763055</td>\n",
              "      <td>1.627074</td>\n",
              "    </tr>\n",
              "    <tr>\n",
              "      <th>4</th>\n",
              "      <td>6.008902</td>\n",
              "      <td>2.301030</td>\n",
              "    </tr>\n",
              "    <tr>\n",
              "      <th>...</th>\n",
              "      <td>...</td>\n",
              "      <td>...</td>\n",
              "    </tr>\n",
              "    <tr>\n",
              "      <th>95</th>\n",
              "      <td>6.093598</td>\n",
              "      <td>-inf</td>\n",
              "    </tr>\n",
              "    <tr>\n",
              "      <th>96</th>\n",
              "      <td>4.652265</td>\n",
              "      <td>-inf</td>\n",
              "    </tr>\n",
              "    <tr>\n",
              "      <th>97</th>\n",
              "      <td>11.007858</td>\n",
              "      <td>8.819619</td>\n",
              "    </tr>\n",
              "    <tr>\n",
              "      <th>98</th>\n",
              "      <td>9.535317</td>\n",
              "      <td>5.746910</td>\n",
              "    </tr>\n",
              "    <tr>\n",
              "      <th>99</th>\n",
              "      <td>3.147718</td>\n",
              "      <td>2.007517</td>\n",
              "    </tr>\n",
              "  </tbody>\n",
              "</table>\n",
              "<p>100 rows × 2 columns</p>\n",
              "</div>"
            ],
            "text/plain": [
              "            g        so\n",
              "0    4.652265  2.301030\n",
              "1    5.835621  1.000000\n",
              "2    8.101642      -inf\n",
              "3    4.763055  1.627074\n",
              "4    6.008902  2.301030\n",
              "..        ...       ...\n",
              "95   6.093598      -inf\n",
              "96   4.652265      -inf\n",
              "97  11.007858  8.819619\n",
              "98   9.535317  5.746910\n",
              "99   3.147718  2.007517\n",
              "\n",
              "[100 rows x 2 columns]"
            ]
          },
          "metadata": {
            "tags": []
          },
          "execution_count": 7
        }
      ]
    },
    {
      "cell_type": "markdown",
      "metadata": {
        "id": "M4OieJJK31bD"
      },
      "source": [
        "THỰC HÀNH APPLY VÀ HÀM TỰ XÂY DỰNG\n",
        "\n",
        "Trong thực tế không phải lúc nào cũng sử dụng lambda với apply, mà có thể sử dụng apply với các hàm có sẵn khác hoặc do lập trình viên tự xây dựng."
      ]
    },
    {
      "cell_type": "markdown",
      "metadata": {
        "id": "v0HubvIV31bD"
      },
      "source": [
        "1. Hãy áp dụng nhóm hàm sum, mean, sqrt, log của thư viện numpy cho data frame ở trên theo chiều ngang và chiều dọc"
      ]
    },
    {
      "cell_type": "code",
      "metadata": {
        "id": "DLdyNwiF31bD"
      },
      "source": [
        "tong = lambda x :(np.sum(x))\n",
        "tb = lambda x :(np.mean(x))\n",
        "can = lambda x : (np.sqrt(x))\n",
        "logar = lambda x : (np.log10(x))"
      ],
      "execution_count": 8,
      "outputs": []
    },
    {
      "cell_type": "code",
      "metadata": {
        "id": "yrwf64KT87xY",
        "outputId": "559c7a6f-d9dc-48de-83b3-6fd535424c42",
        "colab": {
          "base_uri": "https://localhost:8080/"
        }
      },
      "source": [
        "for i in range(2):\n",
        "  print(df_new.apply(tong, i))\n",
        "for i in range(2):\n",
        "  print(df_new.apply(tb, i))\n",
        "for i in range(2):\n",
        "  print(df_new.apply(can, i))\n",
        "for i in range(2):\n",
        "  print(df_new.apply(logar, i))"
      ],
      "execution_count": 9,
      "outputs": [
        {
          "output_type": "stream",
          "text": [
            "g     5238.0\n",
            "so    2408.0\n",
            "dtype: float64\n",
            "0      23.0\n",
            "1      32.0\n",
            "2      62.0\n",
            "3      22.0\n",
            "4      37.0\n",
            "      ...  \n",
            "95     34.0\n",
            "96     19.0\n",
            "97    191.0\n",
            "98    117.0\n",
            "99     11.0\n",
            "Length: 100, dtype: float64\n",
            "g     52.38\n",
            "so    24.08\n",
            "dtype: float64\n",
            "0     11.5\n",
            "1     16.0\n",
            "2     31.0\n",
            "3     11.0\n",
            "4     18.5\n",
            "      ... \n",
            "95    17.0\n",
            "96     9.5\n",
            "97    95.5\n",
            "98    58.5\n",
            "99     5.5\n",
            "Length: 100, dtype: float64\n",
            "            g        so\n",
            "0    4.358899  2.000000\n",
            "1    5.567764  1.000000\n",
            "2    7.874008  0.000000\n",
            "3    4.472136  1.414214\n",
            "4    5.744563  2.000000\n",
            "..        ...       ...\n",
            "95   5.830952  0.000000\n",
            "96   4.358899  0.000000\n",
            "97  10.816654  8.602325\n",
            "98   9.327379  5.477226\n",
            "99   2.828427  1.732051\n",
            "\n",
            "[100 rows x 2 columns]\n",
            "            g        so\n",
            "0    4.358899  2.000000\n",
            "1    5.567764  1.000000\n",
            "2    7.874008  0.000000\n",
            "3    4.472136  1.414214\n",
            "4    5.744563  2.000000\n",
            "..        ...       ...\n",
            "95   5.830952  0.000000\n",
            "96   4.358899  0.000000\n",
            "97  10.816654  8.602325\n",
            "98   9.327379  5.477226\n",
            "99   2.828427  1.732051\n",
            "\n",
            "[100 rows x 2 columns]\n",
            "           g        so\n",
            "0   1.278754  0.602060\n",
            "1   1.491362  0.000000\n",
            "2   1.792392      -inf\n",
            "3   1.301030  0.301030\n",
            "4   1.518514  0.602060\n",
            "..       ...       ...\n",
            "95  1.531479      -inf\n",
            "96  1.278754      -inf\n",
            "97  2.068186  1.869232\n",
            "98  1.939519  1.477121\n",
            "99  0.903090  0.477121\n",
            "\n",
            "[100 rows x 2 columns]\n",
            "           g        so\n",
            "0   1.278754  0.602060\n",
            "1   1.491362  0.000000\n",
            "2   1.792392      -inf\n",
            "3   1.301030  0.301030\n",
            "4   1.518514  0.602060\n",
            "..       ...       ...\n",
            "95  1.531479      -inf\n",
            "96  1.278754      -inf\n",
            "97  2.068186  1.869232\n",
            "98  1.939519  1.477121\n",
            "99  0.903090  0.477121\n",
            "\n",
            "[100 rows x 2 columns]\n"
          ],
          "name": "stdout"
        },
        {
          "output_type": "stream",
          "text": [
            "/usr/local/lib/python3.7/dist-packages/pandas/core/series.py:726: RuntimeWarning: divide by zero encountered in log10\n",
            "  result = getattr(ufunc, method)(*inputs, **kwargs)\n",
            "/usr/local/lib/python3.7/dist-packages/pandas/core/series.py:726: RuntimeWarning: divide by zero encountered in log10\n",
            "  result = getattr(ufunc, method)(*inputs, **kwargs)\n"
          ],
          "name": "stderr"
        }
      ]
    },
    {
      "cell_type": "markdown",
      "metadata": {
        "id": "UVow3Ysx31bE"
      },
      "source": [
        "2. Hãy xây dựng một hàm có tên là my_function có tham số đầu vào là x. Phương pháp tính toán của hàm như sau:\n",
        " (i) Nếu x >0  thì trả về log10(x); (ii) Nếu x <= 0  thì trả về $e^{x}$"
      ]
    },
    {
      "cell_type": "code",
      "metadata": {
        "id": "Z5FZAoGI31bE",
        "outputId": "5945c78b-ce96-49e5-8e4a-52daae4cde5c",
        "colab": {
          "base_uri": "https://localhost:8080/"
        }
      },
      "source": [
        "my_function = lambda x: np.log10(x) if (x > 0)  else np.exp(x)\n",
        "my_function(-55)"
      ],
      "execution_count": 10,
      "outputs": [
        {
          "output_type": "execute_result",
          "data": {
            "text/plain": [
              "1.2995814250075031e-24"
            ]
          },
          "metadata": {
            "tags": []
          },
          "execution_count": 10
        }
      ]
    },
    {
      "cell_type": "markdown",
      "metadata": {
        "id": "0gLFH60I31bE"
      },
      "source": [
        "3. Hãy sử dụng hàm apply để gọi my_function áp dụng cho data frame ở bước 1 ở trên"
      ]
    },
    {
      "cell_type": "code",
      "metadata": {
        "id": "wWutI6bD31bF",
        "outputId": "c1ace493-250c-4544-8583-5bd2c09eda6a",
        "colab": {
          "base_uri": "https://localhost:8080/"
        }
      },
      "source": [
        "for i in df_new.columns:\n",
        "  print(df[f'{i}'].apply(my_function))"
      ],
      "execution_count": 11,
      "outputs": [
        {
          "output_type": "stream",
          "text": [
            "0     1.278754\n",
            "1     1.491362\n",
            "2     1.792392\n",
            "3     1.301030\n",
            "4     1.518514\n",
            "        ...   \n",
            "95    1.531479\n",
            "96    1.278754\n",
            "97    2.068186\n",
            "98    1.939519\n",
            "99    0.903090\n",
            "Name: g, Length: 100, dtype: float64\n",
            "0     0.602060\n",
            "1     0.000000\n",
            "2     1.000000\n",
            "3     0.301030\n",
            "4     0.602060\n",
            "        ...   \n",
            "95    1.000000\n",
            "96    1.000000\n",
            "97    1.869232\n",
            "98    1.477121\n",
            "99    0.477121\n",
            "Name: so, Length: 100, dtype: float64\n"
          ],
          "name": "stdout"
        }
      ]
    }
  ]
}