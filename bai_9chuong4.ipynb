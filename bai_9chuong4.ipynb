{
  "nbformat": 4,
  "nbformat_minor": 0,
  "metadata": {
    "colab": {
      "name": "bai 9chuong4.ipynb",
      "provenance": [],
      "authorship_tag": "ABX9TyMHNWgkxhpKfpOcu0x9UJ9g",
      "include_colab_link": true
    },
    "kernelspec": {
      "name": "python3",
      "display_name": "Python 3"
    }
  },
  "cells": [
    {
      "cell_type": "markdown",
      "metadata": {
        "id": "view-in-github",
        "colab_type": "text"
      },
      "source": [
        "<a href=\"https://colab.research.google.com/github/ldthinh220802/sharksthinh/blob/main/bai_9chuong4.ipynb\" target=\"_parent\"><img src=\"https://colab.research.google.com/assets/colab-badge.svg\" alt=\"Open In Colab\"/></a>"
      ]
    },
    {
      "cell_type": "code",
      "metadata": {
        "id": "NZg0bTJu1UwD"
      },
      "source": [
        "import os\n",
        "import time\n",
        "shutdown = True\n",
        "while shutdown:\n",
        "    shutdown = input(\"Do you want to Shutdown? (nhập yes hoặc no) \")\n",
        "    if shutdown ==\"yes\" :\n",
        "        os.system('shutdown -s')                 \n",
        "    else:\n",
        "        print(\"chờ 1 lát rồi được hỏi lại\")\n",
        "        time.sleep(30)"
      ],
      "execution_count": null,
      "outputs": []
    }
  ]
}