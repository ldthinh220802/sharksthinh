{
  "nbformat": 4,
  "nbformat_minor": 0,
  "metadata": {
    "kernelspec": {
      "display_name": "Python 3",
      "language": "python",
      "name": "python3"
    },
    "language_info": {
      "codemirror_mode": {
        "name": "ipython",
        "version": 3
      },
      "file_extension": ".py",
      "mimetype": "text/x-python",
      "name": "python",
      "nbconvert_exporter": "python",
      "pygments_lexer": "ipython3",
      "version": "3.7.3"
    },
    "colab": {
      "name": "bai-tap-kiem-dinh-z-t.ipynb",
      "provenance": [],
      "include_colab_link": true
    }
  },
  "cells": [
    {
      "cell_type": "markdown",
      "metadata": {
        "id": "view-in-github",
        "colab_type": "text"
      },
      "source": [
        "<a href=\"https://colab.research.google.com/github/ldthinh220802/sharksthinh/blob/main/bai_tap_kiem_dinh_z_t.ipynb\" target=\"_parent\"><img src=\"https://colab.research.google.com/assets/colab-badge.svg\" alt=\"Open In Colab\"/></a>"
      ]
    },
    {
      "cell_type": "markdown",
      "metadata": {
        "id": "eYoRuzOsAVyn"
      },
      "source": [
        "XÂY DỰNG CHƯƠNG TRÌNH KIỂM ĐỊNH Z (HOẶC T) CHO CÁC BÀI TẬP SAU\n",
        "\n",
        "Gợi ý:\n",
        "\n",
        "- Số liệu được sinh ngẫu nhiên theo phân phối chuẩn\n",
        "- Sử dụng gói phần mềm statsmodels để tiến hành kiểm định\n",
        "- Đối với các bài tập kiểm định giả thuyết thì sinh viên cần phát biểu các giả thuyết (bằng tiếng Việt) $H_{0}$ và $H_{a}$ trước khi lập trình kiểm định"
      ]
    },
    {
      "cell_type": "code",
      "metadata": {
        "id": "2UUZQK2xBMie",
        "outputId": "958572c2-4c31-4a8e-f980-ec9dbff5c440",
        "colab": {
          "base_uri": "https://localhost:8080/"
        }
      },
      "source": [
        "pip install scipy==1.6.2"
      ],
      "execution_count": 1,
      "outputs": [
        {
          "output_type": "stream",
          "text": [
            "Collecting scipy==1.6.2\n",
            "\u001b[?25l  Downloading https://files.pythonhosted.org/packages/75/91/ee427c42957f8c4cbe477bf4f8b7f608e003a17941e509d1777e58648cb3/scipy-1.6.2-cp37-cp37m-manylinux1_x86_64.whl (27.4MB)\n",
            "\u001b[K     |████████████████████████████████| 27.4MB 147kB/s \n",
            "\u001b[?25hRequirement already satisfied: numpy<1.23.0,>=1.16.5 in /usr/local/lib/python3.7/dist-packages (from scipy==1.6.2) (1.19.5)\n",
            "\u001b[31mERROR: albumentations 0.1.12 has requirement imgaug<0.2.7,>=0.2.5, but you'll have imgaug 0.2.9 which is incompatible.\u001b[0m\n",
            "Installing collected packages: scipy\n",
            "  Found existing installation: scipy 1.4.1\n",
            "    Uninstalling scipy-1.4.1:\n",
            "      Successfully uninstalled scipy-1.4.1\n",
            "Successfully installed scipy-1.6.2\n"
          ],
          "name": "stdout"
        }
      ]
    },
    {
      "cell_type": "code",
      "metadata": {
        "id": "-Nl5sA-CBd7l"
      },
      "source": [
        "import numpy as np\n",
        "import scipy\n",
        "from scipy import stats\n",
        "import random\n",
        "from statsmodels.stats.weightstats import ztest"
      ],
      "execution_count": 3,
      "outputs": []
    },
    {
      "cell_type": "markdown",
      "metadata": {
        "id": "TcIS93TPAVyx"
      },
      "source": [
        "Bài 1: You’re a Q/C inspector for Gallo. The sample standard deviation for 2-liter bottles is .05 liters.  A random sample of 100 bottles showed sasmple mean = 1.99 liters.  What is the 90%  confidence interval estimate of the true mean amount in 2-liter bottles? "
      ]
    },
    {
      "cell_type": "code",
      "metadata": {
        "id": "lXOn1Q_KAVyy",
        "outputId": "60eac27e-1483-41f4-c840-4e68c2df01f7",
        "colab": {
          "base_uri": "https://localhost:8080/"
        }
      },
      "source": [
        "n1 = 100\n",
        "std1 = 0.05\n",
        "mean1 = 1.99\n",
        "mau1 = np.random.normal(mean1, std1, n1)\n",
        "print(mau1[:10])\n",
        "alpha1 = 0.1\n",
        "null_mean1 = 2\n",
        "zscore1, p_value1 = ztest(mau1, value=null_mean1, alternative='larger')\n",
        "if(p_value1 <  alpha1):\n",
        "  print(\"Có bằng chứng để bác bỏ giả thuyết H0\")\n",
        "else:\n",
        "  print(\"Chưa có bằng chứng để bác bỏ giả thuyết H0\")"
      ],
      "execution_count": 21,
      "outputs": [
        {
          "output_type": "stream",
          "text": [
            "[2.01227929 1.98753253 1.99555047 2.09934097 1.9465796  2.04418549\n",
            " 2.00589254 1.94200876 1.9753588  1.99586086]\n",
            "Chưa có bằng chứng để bác bỏ giả thuyết H0\n"
          ],
          "name": "stdout"
        }
      ]
    },
    {
      "cell_type": "markdown",
      "metadata": {
        "id": "A03Je49mAVyz"
      },
      "source": [
        "Bài 2: You’re a time study analyst in manufacturing.  You’ve recorded the following task times (min.): 3.6, 4.2, 4.0, 3.5, 3.8, 3.1. What is the 90% confidence interval estimate of the population mean task time? "
      ]
    },
    {
      "cell_type": "code",
      "metadata": {
        "id": "MJHvM3CvAVyz",
        "outputId": "bf9f80e5-11a5-47ff-d15f-3a312c27c46b",
        "colab": {
          "base_uri": "https://localhost:8080/"
        }
      },
      "source": [
        "a = [3.6, 4.2, 4.0, 3.5, 3.8, 3.1]\n",
        "n2 = len(a)\n",
        "mean2 = np.mean(a)\n",
        "std2 = np.std(a)\n",
        "alpha2 = 0.1\n",
        "null_mean2 = mean2\n",
        "t_test_score2, p_value2 = stats.ttest_1samp(a, mean2,alternative='two-sided')     \n",
        "if(p_value2 <  alpha2):\n",
        "  print(\"Có bằng chứng để bác bỏ giả thuyết H0\")\n",
        "else:\n",
        "  print(\"Chưa có bằng chứng để bác bỏ giả thuyết H0\")"
      ],
      "execution_count": 24,
      "outputs": [
        {
          "output_type": "stream",
          "text": [
            "Chưa có bằng chứng để bác bỏ giả thuyết H0\n"
          ],
          "name": "stdout"
        }
      ]
    },
    {
      "cell_type": "markdown",
      "metadata": {
        "id": "yk5kcHBtAVy0"
      },
      "source": [
        "Bài 3: Does an average box of cereal contain 368 grams of cereal?  A random sample of 25 boxes had $\\overline{\\rm x}$ = 372.5.  The company has specified $\\sigma$ to be 25 grams.  Test at the .05 level of significance."
      ]
    },
    {
      "cell_type": "code",
      "metadata": {
        "id": "kPUECJDgAVy1",
        "outputId": "f2151f57-31ef-43af-e445-c22308a1a084",
        "colab": {
          "base_uri": "https://localhost:8080/"
        }
      },
      "source": [
        "n3 = 25\n",
        "std3 = 25\n",
        "mean3 = 372.5\n",
        "mau3 = np.random.normal(mean3, std3, n3)\n",
        "print(mau3[:10])\n",
        "alpha3 = 0.05\n",
        "null_mean3 = 368\n",
        "t_test_score3, p_value3 = scipy.stats.ttest_1samp(mau3, null_mean3, alternative='two-sided')\n",
        "if(p_value3 <  alpha3):\n",
        "  print(\"Có bằng chứng để bác bỏ giả thuyết H0\")\n",
        "else:\n",
        "  print(\"Chưa có bằng chứng để bác bỏ giả thuyết H0\")"
      ],
      "execution_count": 26,
      "outputs": [
        {
          "output_type": "stream",
          "text": [
            "[360.79798594 396.14727085 352.39502867 344.83161853 375.15866671\n",
            " 357.70525254 405.93656759 357.7835525  353.82440384 378.46722905]\n",
            "Chưa có bằng chứng để bác bỏ giả thuyết H0\n"
          ],
          "name": "stdout"
        }
      ]
    },
    {
      "cell_type": "markdown",
      "metadata": {
        "id": "ElO_vd4OAVy1"
      },
      "source": [
        "Bài 4: You’re a Q/C inspector.  You want to find out if a new machine is making electrical cords to customer specification: average breaking strength of 70 lb. with $\\sigma$ = 3.5 lb.  You take a sample of 36 cords & compute a sample mean of 69.7 lb.  At the .05 level of significance, is there evidence that the machine is not meeting the average breaking strength?"
      ]
    },
    {
      "cell_type": "code",
      "metadata": {
        "id": "m8tH35tvAVy2",
        "outputId": "5510735f-b7e8-4d6c-9b47-307237735f8f",
        "colab": {
          "base_uri": "https://localhost:8080/"
        }
      },
      "source": [
        "mean4 = 69.7\n",
        "std4 = 3.5\n",
        "n4 = 36\n",
        "alpha4 = 0.05\n",
        "null_mean4 = 70\n",
        "mau4 = np.random.normal(mean4, std4, n4)\n",
        "print(mau4[:10])\n",
        "ztest_Score4, p_value4 = ztest(mau4, value = null_mean4, alternative='larger')\n",
        "if(p_value4 <  alpha4):\n",
        "  print(\"Có bằng chứng để bác bỏ giả thuyết H0\")\n",
        "else:\n",
        "  print(\"Chưa có bằng chứng để bác bỏ giả thuyết H0\")"
      ],
      "execution_count": 27,
      "outputs": [
        {
          "output_type": "stream",
          "text": [
            "[68.29547099 66.99467245 67.03741891 63.25001811 68.27043876 68.16432402\n",
            " 68.08949168 68.69677663 69.5644618  65.3075887 ]\n",
            "Chưa có bằng chứng để bác bỏ giả thuyết H0\n"
          ],
          "name": "stdout"
        }
      ]
    },
    {
      "cell_type": "markdown",
      "metadata": {
        "id": "f430abfiAVy2"
      },
      "source": [
        "Bài 5: Does an average box of cereal contain more than 368 grams of cereal?  A random sample of 25 boxes showed $\\overline{\\rm x}$ =  372.5.  The company has specified $\\sigma$ to be 25 grams.  Test at the .05 level of significance."
      ]
    },
    {
      "cell_type": "code",
      "metadata": {
        "id": "XsPRtV5oAVy2",
        "outputId": "32c69fee-fe76-4895-9463-519c879e6956",
        "colab": {
          "base_uri": "https://localhost:8080/"
        }
      },
      "source": [
        "n5 = 25\n",
        "mean5 = 372.5\n",
        "std5 = 25\n",
        "alpha5 = 0.05\n",
        "null_mean5 = 368\n",
        "mau5 = np.random.normal(mean5, std5, n5)\n",
        "print(mau5[:10])\n",
        "t_test_score5, p_value5 = scipy.stats.ttest_1samp(mau5, null_mean5, alternative='two-sided')\n",
        "if(p_value5 <  alpha5):\n",
        "  print(\"Có bằng chứng để bác bỏ giả thuyết H0\")\n",
        "else:\n",
        "  print(\"Chưa có bằng chứng để bác bỏ giả thuyết H0\")"
      ],
      "execution_count": 29,
      "outputs": [
        {
          "output_type": "stream",
          "text": [
            "[396.14784777 365.43132875 357.11386831 380.27959896 397.2820081\n",
            " 394.22485096 350.57414524 376.84050256 397.2873444  362.44622084]\n",
            "Chưa có bằng chứng để bác bỏ giả thuyết H0\n"
          ],
          "name": "stdout"
        }
      ]
    },
    {
      "cell_type": "markdown",
      "metadata": {
        "id": "zzRWTgNWAVy3"
      },
      "source": [
        "Bài 6: You’re an analyst for Ford.  You want to find out if the average miles per gallon of Escorts is at least 32 mpg. Similar models have a standard deviation of 3.8 mpg. You take a sample of 60 Escorts & compute a sample mean of 30.7 mpg. At the .01 level of significance, is there evidence that the miles per gallon is less than 32?"
      ]
    },
    {
      "cell_type": "code",
      "metadata": {
        "id": "sqBNCXLnAVy3",
        "outputId": "45550087-a76d-45d3-d58d-d5a26885ae9d",
        "colab": {
          "base_uri": "https://localhost:8080/"
        }
      },
      "source": [
        "mean6 = 30.7\n",
        "std6 = 3.8\n",
        "n6 = 60\n",
        "alpha6 = 0.01\n",
        "null_mean6 = 32\n",
        "mau6 = np.random.normal(mean6, std6, n6)\n",
        "print(mau6[:10])\n",
        "ztest_Score6, p_value6= ztest(mau6, value = null_mean6, alternative='smaller')\n",
        "if(p_value6 <  alpha6):\n",
        "  print(\"Có bằng chứng để bác bỏ giả thuyết H0\")\n",
        "else:\n",
        "  print(\"Chưa có bằng chứng để bác bỏ giả thuyết H0\")"
      ],
      "execution_count": 30,
      "outputs": [
        {
          "output_type": "stream",
          "text": [
            "[26.05025773 22.5566309  34.53691312 28.14020564 29.60573139 29.21484518\n",
            " 26.14932358 33.29876415 36.30193781 32.59611066]\n",
            "Chưa có bằng chứng để bác bỏ giả thuyết H0\n"
          ],
          "name": "stdout"
        }
      ]
    },
    {
      "cell_type": "markdown",
      "metadata": {
        "id": "qnnJv_yYAVy3"
      },
      "source": [
        "Bài 7: Does an average box of cereal contain 368 grams of cereal?  A random sample of 25 boxes showed $\\overline{\\rm x}$ = 372.5.  The company has specified $\\sigma$ to be 15 grams.  Find the p-Value."
      ]
    },
    {
      "cell_type": "code",
      "metadata": {
        "id": "uZk6ujfxAVy4",
        "outputId": "5ee62a98-404f-4097-dc3f-7b8b8cd7c034",
        "colab": {
          "base_uri": "https://localhost:8080/"
        }
      },
      "source": [
        "\n",
        "mean7 = 372.5\n",
        "std7 = 15\n",
        "n7 = 25\n",
        "null_mean7 = 368\n",
        "mau7 = np.random.normal(mean7, std7, n7)\n",
        "print(mau7[:10])\n",
        "t_test_score7, p_value7 = scipy.stats.ttest_1samp(mau7, null_mean7, alternative='two-sided')\n",
        "print(p_value7)"
      ],
      "execution_count": 31,
      "outputs": [
        {
          "output_type": "stream",
          "text": [
            "[404.82282949 379.31003402 404.77529123 390.60790706 346.00468447\n",
            " 343.98395088 353.35777469 363.20950466 394.03423075 395.15531374]\n",
            "0.04097805928358584\n"
          ],
          "name": "stdout"
        }
      ]
    },
    {
      "cell_type": "markdown",
      "metadata": {
        "id": "dzWRb16lAVy5"
      },
      "source": [
        "Bài 8: Does an average box of cereal contain more than 368 grams of cereal?  A random sample of 25 boxes showed $\\overline{\\rm x}$ = 372.5.  The company has specified $\\sigma$ to be 15 grams.  Find the p-Value."
      ]
    },
    {
      "cell_type": "code",
      "metadata": {
        "id": "2NbaLwczAVy5",
        "outputId": "a685d2d1-b4da-426c-ded9-fb5d048aa523",
        "colab": {
          "base_uri": "https://localhost:8080/"
        }
      },
      "source": [
        "mean8 = 372.5\n",
        "std8 = 15\n",
        "n8 = 25\n",
        "null_mean8 = 368\n",
        "mau8 = np.random.normal(mean8, std8, n8)\n",
        "print(mau8[:10])\n",
        "t_test_score8, p_value8 = scipy.stats.ttest_1samp(mau8, null_mean8, alternative='two-sided')\n",
        "print(p_value8)"
      ],
      "execution_count": 32,
      "outputs": [
        {
          "output_type": "stream",
          "text": [
            "[399.28591015 373.71074034 382.85013652 385.39591729 369.6049867\n",
            " 391.4100476  374.59120155 367.1833776  366.48468377 367.8469168 ]\n",
            "0.027258635861339208\n"
          ],
          "name": "stdout"
        }
      ]
    },
    {
      "cell_type": "markdown",
      "metadata": {
        "id": "nmvJXkbhAVy6"
      },
      "source": [
        "Bài 9: You’re an analyst for Ford.  You want to find out if the average miles per gallon of Escorts is less than 32 mpg.   Similar models have a standard deviation of 3.8 mpg.  You take a sample of 60 Escorts & compute a sample mean of 30.7 mpg.  What is the value of the observed level of significance (p-Value)?"
      ]
    },
    {
      "cell_type": "code",
      "metadata": {
        "id": "ZCley-jcAVy6",
        "outputId": "7b01dae6-1952-4959-bdb4-cef7391b1e89",
        "colab": {
          "base_uri": "https://localhost:8080/"
        }
      },
      "source": [
        "n9 = 60\n",
        "std9 = 3.8\n",
        "mean9 = 30.7\n",
        "null_mean9 = 32\n",
        "mau9 = np.random.normal(mean9, std9, n9)\n",
        "print(mau9[:10])\n",
        "ztest_Score9, p_value9= ztest(mau9, value = null_mean9, alternative='smaller')\n",
        "print(p_value9)"
      ],
      "execution_count": 33,
      "outputs": [
        {
          "output_type": "stream",
          "text": [
            "[28.27660796 35.16494052 24.46174836 36.58289885 34.98728841 35.13335936\n",
            " 28.83216766 34.18228719 24.12692484 30.83198871]\n",
            "0.019974409729260043\n"
          ],
          "name": "stdout"
        }
      ]
    },
    {
      "cell_type": "markdown",
      "metadata": {
        "id": "GpkUDqLpAVy7"
      },
      "source": [
        "Bài 10: Does an average box of cereal contain 368 grams of cereal?  A random sample of 36 boxes had a mean of 372.5 and a standard deviation of 12 grams. Test at the .05 level of significance."
      ]
    },
    {
      "cell_type": "code",
      "metadata": {
        "id": "MGD0d_0nAVy8",
        "outputId": "c87384d8-abbe-4de3-d7e0-eb18bef46495",
        "colab": {
          "base_uri": "https://localhost:8080/"
        }
      },
      "source": [
        "n10 = 36\n",
        "std10 = 12\n",
        "mean10 = 372.5\n",
        "null_mean10 = 368\n",
        "alpha10 = 0.05\n",
        "mau10 = np.random.normal(mean10, std10, n10)\n",
        "print(mau10[:10])\n",
        "ztest_Score10, p_value10= ztest(mau10, value = null_mean10, alternative='two-sided')\n",
        "if(p_value10 <  alpha10):\n",
        "  print(\"Có bằng chứng để bác bỏ giả thuyết H0\")\n",
        "else:\n",
        "  print(\"Chưa có bằng chứng để bác bỏ giả thuyết H0\")"
      ],
      "execution_count": 36,
      "outputs": [
        {
          "output_type": "stream",
          "text": [
            "[371.16682474 381.11897505 361.87116776 375.25359728 373.68979839\n",
            " 384.34600843 378.89946945 384.06124515 359.92732482 360.97380186]\n",
            "Chưa có bằng chứng để bác bỏ giả thuyết H0\n"
          ],
          "name": "stdout"
        }
      ]
    },
    {
      "cell_type": "markdown",
      "metadata": {
        "id": "UeU66g8RAVy8"
      },
      "source": [
        "Bài 11: You work for the FTC.  A manufacturer of detergent claims that the mean weight of detergent is 3.25 lb.  You take a random sample of 64 containers.  You calculate the sample average to be 3.238 lb. with a standard deviation of .117 lb.  At the .01 level of significance, is the manufacturer correct?"
      ]
    },
    {
      "cell_type": "code",
      "metadata": {
        "id": "knru9Dd3AVy9",
        "outputId": "492d9ae5-3717-4a3a-a81d-452d587d01de",
        "colab": {
          "base_uri": "https://localhost:8080/"
        }
      },
      "source": [
        "n11 = 64\n",
        "mean11 = 3.238\n",
        "std11 = 0.117\n",
        "null_mean11 = 3.25\n",
        "alpha11 = 0.01\n",
        "mau11 = np.random.normal(mean11, std11, n11)\n",
        "print(mau11[:10])\n",
        "ztest_Score11, p_value11= ztest(mau11, value = null_mean11, alternative='two-sided')\n",
        "if(p_value11 <  alpha11):\n",
        "  print(\"Có bằng chứng để bác bỏ giả thuyết H0\")\n",
        "else:\n",
        "  print(\"Chưa có bằng chứng để bác bỏ giả thuyết H0\")"
      ],
      "execution_count": 38,
      "outputs": [
        {
          "output_type": "stream",
          "text": [
            "[3.24831265 3.12212386 2.98662611 3.236161   3.05750504 3.10024409\n",
            " 3.13381592 3.28898545 3.20238126 3.32078307]\n",
            "Chưa có bằng chứng để bác bỏ giả thuyết H0\n"
          ],
          "name": "stdout"
        }
      ]
    },
    {
      "cell_type": "markdown",
      "metadata": {
        "id": "DnsdRqiIAVy9"
      },
      "source": [
        "Bài 12: Is the average capacity of batteries less than 140 ampere-hours?  A random sample of 20 batteries had a mean of 138.47 and a standard deviation of 2.66.  Assume a normal distribution. Test at the .05 level of significance."
      ]
    },
    {
      "cell_type": "code",
      "metadata": {
        "id": "FhdALQ48AVy9",
        "outputId": "6435f92f-5f3f-48b2-8098-7328cd949268",
        "colab": {
          "base_uri": "https://localhost:8080/"
        }
      },
      "source": [
        "\n",
        "n12 = 20\n",
        "mean12 = 138.47\n",
        "std12 = 2.66\n",
        "null_mean12 = 140\n",
        "alpha12 = 0.05\n",
        "mau12 = np.random.normal(mean12, std12, n12)\n",
        "print(mau12[:10])\n",
        "t_test_score12, p_value12 = scipy.stats.ttest_1samp(mau12, null_mean12, alternative='less')\n",
        "if(p_value12 <  alpha12):\n",
        "  print(\"Có bằng chứng để bác bỏ giả thuyết H0\")\n",
        "else:\n",
        "  print(\"Chưa có bằng chứng để bác bỏ giả thuyết H0\")"
      ],
      "execution_count": 42,
      "outputs": [
        {
          "output_type": "stream",
          "text": [
            "[138.0645565  138.4521891  135.46619923 133.15473208 135.7022786\n",
            " 138.44357185 136.04719018 140.16552658 135.91928378 137.67772086]\n",
            "Có bằng chứng để bác bỏ giả thuyết H0\n"
          ],
          "name": "stdout"
        }
      ]
    },
    {
      "cell_type": "markdown",
      "metadata": {
        "id": "CBac7kuDAVy-"
      },
      "source": [
        "Bài 13: You’re a marketing analyst for Wal-Mart.  Wal-Mart had teddy bears on sale last week.  The weekly sales of bears sold in 10 stores was: 8  11  0   4   7   8   10   5   8   3. At the .05 level of significance, is there evidence that the average bear sales per store is more than 5?"
      ]
    },
    {
      "cell_type": "code",
      "metadata": {
        "id": "OOen6xacAVy-",
        "outputId": "351487e7-1302-4cd8-b581-7fa95490b813",
        "colab": {
          "base_uri": "https://localhost:8080/"
        }
      },
      "source": [
        "mau13 = [8, 11, 0, 4, 7, 8, 10, 5, 8, 3]\n",
        "alpha13 = 0.05\n",
        "null_mean13 = 5\n",
        "t_test_score13, p_value13 = scipy.stats.ttest_1samp(mau13, null_mean13, alternative='greater')\n",
        "if(p_value13 <  alpha13):\n",
        "  print(\"Có bằng chứng để bác bỏ giả thuyết H0\")\n",
        "else:\n",
        "  print(\"Chưa có bằng chứng để bác bỏ giả thuyết H0\")"
      ],
      "execution_count": 43,
      "outputs": [
        {
          "output_type": "stream",
          "text": [
            "Chưa có bằng chứng để bác bỏ giả thuyết H0\n"
          ],
          "name": "stdout"
        }
      ]
    },
    {
      "cell_type": "code",
      "metadata": {
        "id": "rhv-s150AVy_"
      },
      "source": [
        ""
      ],
      "execution_count": null,
      "outputs": []
    }
  ]
}