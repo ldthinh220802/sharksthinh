{
  "nbformat": 4,
  "nbformat_minor": 0,
  "metadata": {
    "colab": {
      "name": "bai2chuong4",
      "provenance": [],
      "authorship_tag": "ABX9TyPGpMukbpDAx4GFLGjIrk1K",
      "include_colab_link": true
    },
    "kernelspec": {
      "name": "python3",
      "display_name": "Python 3"
    }
  },
  "cells": [
    {
      "cell_type": "markdown",
      "metadata": {
        "id": "view-in-github",
        "colab_type": "text"
      },
      "source": [
        "<a href=\"https://colab.research.google.com/github/ldthinh220802/sharksthinh/blob/main/bai2chuong4.ipynb\" target=\"_parent\"><img src=\"https://colab.research.google.com/assets/colab-badge.svg\" alt=\"Open In Colab\"/></a>"
      ]
    },
    {
      "cell_type": "code",
      "metadata": {
        "id": "UIQBfvFy8Mt-"
      },
      "source": [
        "i=1\n",
        "n=int(input(\"số phương trình bậc nhất cần giải =\"))\n",
        "print(\"giải pt bằng while\")\n",
        "while i <= n:\n",
        "    a = int(input(\"nhập a = \"))\n",
        "    b = int(input(\"nhập b = \"))\n",
        "    if  a == 0:\n",
        "        if b == 0:\n",
        "            print(\"phương trình\",a,\"x +\",b,\"= 0 có vô số nghiệm\")\n",
        "        else :\n",
        "            print(\"phương trình\",a,\"x +\",b,\"= 0 vô nghiệm\")\n",
        "    else :\n",
        "        x = (-b)/a\n",
        "        print(\"phương trình\",a,\"x +\",b,\"= 0 có nghiệm x =\",x)\n",
        "    i+=1\n",
        "print(\"kết thúc giải phương trình bằng while\")\n",
        "print(\"bắt đầu giải bằng for\")\n",
        "for i in range(n):\n",
        "    a = int(input(\"nhập a = \"))\n",
        "    b = int(input(\"nhập b = \"))\n",
        "    if  a == 0:\n",
        "        if b == 0:\n",
        "            print(\"phương trình\",a,\"x +\",b,\"= 0 có vô số nghiệm\")\n",
        "        else :\n",
        "            print(\"phương trình\",a,\"x +\",b,\"= 0 vô nghiệm\")\n",
        "    else :\n",
        "        x = (-b)/a\n",
        "        print(\"phương trình\",a,\"x +\",b,\"= 0 có nghiệm x =\",x)\n",
        "print(\"kết thúc giải phương trình bằng for\")"
      ],
      "execution_count": null,
      "outputs": []
    }
  ]
}