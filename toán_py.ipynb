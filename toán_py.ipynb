{
  "nbformat": 4,
  "nbformat_minor": 0,
  "metadata": {
    "colab": {
      "name": "toán.py",
      "provenance": [],
      "authorship_tag": "ABX9TyNeNjltAz856D0M5qgUIcC5",
      "include_colab_link": true
    },
    "kernelspec": {
      "name": "python3",
      "display_name": "Python 3"
    }
  },
  "cells": [
    {
      "cell_type": "markdown",
      "metadata": {
        "id": "view-in-github",
        "colab_type": "text"
      },
      "source": [
        "<a href=\"https://colab.research.google.com/github/ldthinh220802/sharksthinh/blob/main/to%C3%A1n_py.ipynb\" target=\"_parent\"><img src=\"https://colab.research.google.com/assets/colab-badge.svg\" alt=\"Open In Colab\"/></a>"
      ]
    },
    {
      "cell_type": "code",
      "metadata": {
        "colab": {
          "base_uri": "https://localhost:8080/"
        },
        "id": "Hyow1pbo7wuY",
        "outputId": "caf06e0d-648f-4b45-9cf2-0218e3688c8b"
      },
      "source": [
        "import numpy as np\r\n",
        "def  matran(n):\r\n",
        "     rd = np.random.randint(0,10,(n,n))\r\n",
        "     print('ma tran',rd)\r\n",
        "     dinhthuc = np.linalg.det(rd)\r\n",
        "     rankA = np.linalg.matrix_rank(rd)\r\n",
        "     print('dinh thuc',dinhthuc)\r\n",
        "     print('rank',rankA)\r\n",
        "     hai =rd**2\r\n",
        "     ba = rd**3\r\n",
        "     print('a^2',hai)\r\n",
        "     print('a^3',ba)\r\n",
        "     return rd , dinhthuc , rankA , hai , ba\r\n",
        "n = int(input('ma tran cap '))\r\n",
        "matran(n)     "
      ],
      "execution_count": 23,
      "outputs": [
        {
          "output_type": "stream",
          "text": [
            "ma tran cap 3\n",
            "ma tran [[5 3 1]\n",
            " [5 2 1]\n",
            " [7 9 5]]\n",
            "dinh thuc -17.999999999999996\n",
            "rank 3\n",
            "a^2 [[25  9  1]\n",
            " [25  4  1]\n",
            " [49 81 25]]\n",
            "a^3 [[125  27   1]\n",
            " [125   8   1]\n",
            " [343 729 125]]\n"
          ],
          "name": "stdout"
        },
        {
          "output_type": "execute_result",
          "data": {
            "text/plain": [
              "(array([[5, 3, 1],\n",
              "        [5, 2, 1],\n",
              "        [7, 9, 5]]), -17.999999999999996, 3, array([[25,  9,  1],\n",
              "        [25,  4,  1],\n",
              "        [49, 81, 25]]), array([[125,  27,   1],\n",
              "        [125,   8,   1],\n",
              "        [343, 729, 125]]))"
            ]
          },
          "metadata": {
            "tags": []
          },
          "execution_count": 23
        }
      ]
    }
  ]
}